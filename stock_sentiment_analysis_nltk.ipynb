{
 "cells": [
  {
   "cell_type": "code",
   "execution_count": 4,
   "id": "c1ffc056",
   "metadata": {},
   "outputs": [
    {
     "name": "stdout",
     "output_type": "stream",
     "text": [
      "Collecting curl_cffi\n",
      "  Downloading curl_cffi-0.6.2-cp38-abi3-win_amd64.whl (2.3 MB)\n",
      "     ---------------------------------------- 0.0/2.3 MB ? eta -:--:--\n",
      "      --------------------------------------- 0.0/2.3 MB 1.4 MB/s eta 0:00:02\n",
      "     - -------------------------------------- 0.1/2.3 MB 1.2 MB/s eta 0:00:02\n",
      "     -- ------------------------------------- 0.1/2.3 MB 901.1 kB/s eta 0:00:03\n",
      "     --- ------------------------------------ 0.2/2.3 MB 1.1 MB/s eta 0:00:03\n",
      "     ---- ----------------------------------- 0.2/2.3 MB 1.1 MB/s eta 0:00:02\n",
      "     ---- ----------------------------------- 0.3/2.3 MB 1.1 MB/s eta 0:00:02\n",
      "     ----- ---------------------------------- 0.3/2.3 MB 1.1 MB/s eta 0:00:02\n",
      "     ------- -------------------------------- 0.4/2.3 MB 1.2 MB/s eta 0:00:02\n",
      "     ------- -------------------------------- 0.4/2.3 MB 1.1 MB/s eta 0:00:02\n",
      "     -------- ------------------------------- 0.5/2.3 MB 1.1 MB/s eta 0:00:02\n",
      "     --------- ------------------------------ 0.5/2.3 MB 1.1 MB/s eta 0:00:02\n",
      "     ---------- ----------------------------- 0.6/2.3 MB 1.1 MB/s eta 0:00:02\n",
      "     ---------- ----------------------------- 0.6/2.3 MB 1.1 MB/s eta 0:00:02\n",
      "     ---------- ----------------------------- 0.6/2.3 MB 983.0 kB/s eta 0:00:02\n",
      "     ----------- ---------------------------- 0.7/2.3 MB 1.0 MB/s eta 0:00:02\n",
      "     ----------- ---------------------------- 0.7/2.3 MB 1.0 MB/s eta 0:00:02\n",
      "     ------------ --------------------------- 0.7/2.3 MB 983.0 kB/s eta 0:00:02\n",
      "     ------------- -------------------------- 0.8/2.3 MB 945.8 kB/s eta 0:00:02\n",
      "     -------------- ------------------------- 0.8/2.3 MB 971.8 kB/s eta 0:00:02\n",
      "     -------------- ------------------------- 0.9/2.3 MB 971.3 kB/s eta 0:00:02\n",
      "     --------------- ------------------------ 0.9/2.3 MB 972.6 kB/s eta 0:00:02\n",
      "     ---------------- ----------------------- 0.9/2.3 MB 977.8 kB/s eta 0:00:02\n",
      "     ----------------- ---------------------- 1.0/2.3 MB 978.6 kB/s eta 0:00:02\n",
      "     ----------------- ---------------------- 1.0/2.3 MB 949.9 kB/s eta 0:00:02\n",
      "     ------------------ --------------------- 1.1/2.3 MB 974.3 kB/s eta 0:00:02\n",
      "     ------------------- -------------------- 1.1/2.3 MB 961.9 kB/s eta 0:00:02\n",
      "     -------------------- ------------------- 1.2/2.3 MB 953.3 kB/s eta 0:00:02\n",
      "     -------------------- ------------------- 1.2/2.3 MB 962.6 kB/s eta 0:00:02\n",
      "     --------------------- ------------------ 1.3/2.3 MB 971.9 kB/s eta 0:00:02\n",
      "     ---------------------- ----------------- 1.3/2.3 MB 956.1 kB/s eta 0:00:02\n",
      "     ----------------------- ---------------- 1.3/2.3 MB 939.5 kB/s eta 0:00:02\n",
      "     ----------------------- ---------------- 1.4/2.3 MB 951.2 kB/s eta 0:00:01\n",
      "     ------------------------ --------------- 1.4/2.3 MB 945.3 kB/s eta 0:00:01\n",
      "     ------------------------- -------------- 1.5/2.3 MB 949.8 kB/s eta 0:00:01\n",
      "     -------------------------- ------------- 1.5/2.3 MB 963.7 kB/s eta 0:00:01\n",
      "     --------------------------- ------------ 1.6/2.3 MB 977.1 kB/s eta 0:00:01\n",
      "     ---------------------------- ----------- 1.6/2.3 MB 968.2 kB/s eta 0:00:01\n",
      "     ---------------------------- ----------- 1.7/2.3 MB 959.6 kB/s eta 0:00:01\n",
      "     ----------------------------- ---------- 1.7/2.3 MB 971.3 kB/s eta 0:00:01\n",
      "     ------------------------------ --------- 1.8/2.3 MB 975.0 kB/s eta 0:00:01\n",
      "     ------------------------------- -------- 1.8/2.3 MB 977.9 kB/s eta 0:00:01\n",
      "     ------------------------------- -------- 1.8/2.3 MB 986.0 kB/s eta 0:00:01\n",
      "     --------------------------------- ------ 1.9/2.3 MB 983.3 kB/s eta 0:00:01\n",
      "     ---------------------------------- ----- 2.0/2.3 MB 996.1 kB/s eta 0:00:01\n",
      "     ---------------------------------- ----- 2.0/2.3 MB 978.1 kB/s eta 0:00:01\n",
      "     ----------------------------------- ---- 2.0/2.3 MB 996.0 kB/s eta 0:00:01\n",
      "     ------------------------------------ --- 2.1/2.3 MB 995.4 kB/s eta 0:00:01\n",
      "     ------------------------------------- -- 2.1/2.3 MB 981.1 kB/s eta 0:00:01\n",
      "     ------------------------------------- -- 2.2/2.3 MB 983.4 kB/s eta 0:00:01\n",
      "     -------------------------------------- - 2.2/2.3 MB 983.0 kB/s eta 0:00:01\n",
      "     ---------------------------------------  2.3/2.3 MB 992.1 kB/s eta 0:00:01\n",
      "     ---------------------------------------  2.3/2.3 MB 979.0 kB/s eta 0:00:01\n",
      "     ---------------------------------------- 2.3/2.3 MB 975.9 kB/s eta 0:00:00\n",
      "Requirement already satisfied: cffi>=1.12.0 in c:\\python311\\lib\\site-packages (from curl_cffi) (1.16.0)\n",
      "Requirement already satisfied: certifi in c:\\python311\\lib\\site-packages (from curl_cffi) (2023.11.17)\n",
      "Requirement already satisfied: pycparser in c:\\python311\\lib\\site-packages (from cffi>=1.12.0->curl_cffi) (2.21)\n",
      "Installing collected packages: curl_cffi\n",
      "Successfully installed curl_cffi-0.6.2\n",
      "Note: you may need to restart the kernel to use updated packages.\n"
     ]
    },
    {
     "name": "stderr",
     "output_type": "stream",
     "text": [
      "\n",
      "[notice] A new release of pip is available: 23.0.1 -> 24.0\n",
      "[notice] To update, run: python.exe -m pip install --upgrade pip\n"
     ]
    }
   ],
   "source": [
    "%pip install curl_cffi"
   ]
  },
  {
   "cell_type": "code",
   "execution_count": 2,
   "id": "aa6687ea",
   "metadata": {},
   "outputs": [],
   "source": [
    "import yfinance as yf\n",
    "import GetOldTweets3 as got\n",
    "import requests\n",
    "import pytrends\n",
    "from pytrends.request import TrendReq\n",
    "from ta import add_all_ta_features\n",
    "import praw\n",
    "import pandas as pd\n",
    "import os\n",
    "from urllib.request import urlopen, Request\n",
    "from bs4 import BeautifulSoup\n",
    "from nltk.sentiment.vader import SentimentIntensityAnalyzer\n",
    "import pandas as pd\n",
    "import matplotlib.pyplot as plt\n",
    "import re\n",
    "from datetime import datetime\n",
    "import keras\n",
    "from io import StringIO\n",
    "from sklearn.preprocessing import MinMaxScaler\n",
    "from keras.models import Sequential\n",
    "from keras.layers import LSTM\n",
    "from keras.layers import Dropout\n",
    "from keras.layers import Dense\n",
    "import numpy as np\n",
    "import plotly.express as px"
   ]
  },
  {
   "cell_type": "code",
   "execution_count": 4,
   "id": "ed78ab69",
   "metadata": {},
   "outputs": [
    {
     "name": "stdout",
     "output_type": "stream",
     "text": [
      "AMZN:2024-02-01 2024-02-29\n",
      "AMZN:2024-03-01 2024-03-31\n"
     ]
    },
    {
     "data": {
      "text/html": [
       "<div>\n",
       "<style scoped>\n",
       "    .dataframe tbody tr th:only-of-type {\n",
       "        vertical-align: middle;\n",
       "    }\n",
       "\n",
       "    .dataframe tbody tr th {\n",
       "        vertical-align: top;\n",
       "    }\n",
       "\n",
       "    .dataframe thead th {\n",
       "        text-align: right;\n",
       "    }\n",
       "</style>\n",
       "<table border=\"1\" class=\"dataframe\">\n",
       "  <thead>\n",
       "    <tr style=\"text-align: right;\">\n",
       "      <th></th>\n",
       "      <th>AMZN_unscaled</th>\n",
       "      <th>AMZN_monthly</th>\n",
       "      <th>isPartial</th>\n",
       "      <th>scale</th>\n",
       "      <th>AMZN</th>\n",
       "    </tr>\n",
       "    <tr>\n",
       "      <th>date</th>\n",
       "      <th></th>\n",
       "      <th></th>\n",
       "      <th></th>\n",
       "      <th></th>\n",
       "      <th></th>\n",
       "    </tr>\n",
       "  </thead>\n",
       "  <tbody>\n",
       "    <tr>\n",
       "      <th>2024-02-01</th>\n",
       "      <td>84</td>\n",
       "      <td>84</td>\n",
       "      <td>False</td>\n",
       "      <td>0.84</td>\n",
       "      <td>70.56</td>\n",
       "    </tr>\n",
       "    <tr>\n",
       "      <th>2024-02-02</th>\n",
       "      <td>100</td>\n",
       "      <td>100</td>\n",
       "      <td>False</td>\n",
       "      <td>1.00</td>\n",
       "      <td>100.00</td>\n",
       "    </tr>\n",
       "    <tr>\n",
       "      <th>2024-02-03</th>\n",
       "      <td>20</td>\n",
       "      <td>20</td>\n",
       "      <td>False</td>\n",
       "      <td>0.20</td>\n",
       "      <td>4.00</td>\n",
       "    </tr>\n",
       "    <tr>\n",
       "      <th>2024-02-04</th>\n",
       "      <td>10</td>\n",
       "      <td>10</td>\n",
       "      <td>False</td>\n",
       "      <td>0.10</td>\n",
       "      <td>1.00</td>\n",
       "    </tr>\n",
       "    <tr>\n",
       "      <th>2024-02-05</th>\n",
       "      <td>39</td>\n",
       "      <td>39</td>\n",
       "      <td>False</td>\n",
       "      <td>0.39</td>\n",
       "      <td>15.21</td>\n",
       "    </tr>\n",
       "    <tr>\n",
       "      <th>2024-02-06</th>\n",
       "      <td>33</td>\n",
       "      <td>33</td>\n",
       "      <td>False</td>\n",
       "      <td>0.33</td>\n",
       "      <td>10.89</td>\n",
       "    </tr>\n",
       "    <tr>\n",
       "      <th>2024-02-07</th>\n",
       "      <td>32</td>\n",
       "      <td>32</td>\n",
       "      <td>False</td>\n",
       "      <td>0.32</td>\n",
       "      <td>10.24</td>\n",
       "    </tr>\n",
       "    <tr>\n",
       "      <th>2024-02-08</th>\n",
       "      <td>33</td>\n",
       "      <td>33</td>\n",
       "      <td>False</td>\n",
       "      <td>0.33</td>\n",
       "      <td>10.89</td>\n",
       "    </tr>\n",
       "    <tr>\n",
       "      <th>2024-02-09</th>\n",
       "      <td>34</td>\n",
       "      <td>34</td>\n",
       "      <td>False</td>\n",
       "      <td>0.34</td>\n",
       "      <td>11.56</td>\n",
       "    </tr>\n",
       "    <tr>\n",
       "      <th>2024-02-10</th>\n",
       "      <td>14</td>\n",
       "      <td>14</td>\n",
       "      <td>False</td>\n",
       "      <td>0.14</td>\n",
       "      <td>1.96</td>\n",
       "    </tr>\n",
       "    <tr>\n",
       "      <th>2024-02-11</th>\n",
       "      <td>10</td>\n",
       "      <td>10</td>\n",
       "      <td>False</td>\n",
       "      <td>0.10</td>\n",
       "      <td>1.00</td>\n",
       "    </tr>\n",
       "    <tr>\n",
       "      <th>2024-02-12</th>\n",
       "      <td>33</td>\n",
       "      <td>33</td>\n",
       "      <td>False</td>\n",
       "      <td>0.33</td>\n",
       "      <td>10.89</td>\n",
       "    </tr>\n",
       "    <tr>\n",
       "      <th>2024-02-13</th>\n",
       "      <td>31</td>\n",
       "      <td>31</td>\n",
       "      <td>False</td>\n",
       "      <td>0.31</td>\n",
       "      <td>9.61</td>\n",
       "    </tr>\n",
       "    <tr>\n",
       "      <th>2024-02-14</th>\n",
       "      <td>30</td>\n",
       "      <td>30</td>\n",
       "      <td>False</td>\n",
       "      <td>0.30</td>\n",
       "      <td>9.00</td>\n",
       "    </tr>\n",
       "    <tr>\n",
       "      <th>2024-02-15</th>\n",
       "      <td>28</td>\n",
       "      <td>28</td>\n",
       "      <td>False</td>\n",
       "      <td>0.28</td>\n",
       "      <td>7.84</td>\n",
       "    </tr>\n",
       "    <tr>\n",
       "      <th>2024-02-16</th>\n",
       "      <td>28</td>\n",
       "      <td>28</td>\n",
       "      <td>False</td>\n",
       "      <td>0.28</td>\n",
       "      <td>7.84</td>\n",
       "    </tr>\n",
       "    <tr>\n",
       "      <th>2024-02-17</th>\n",
       "      <td>8</td>\n",
       "      <td>8</td>\n",
       "      <td>False</td>\n",
       "      <td>0.08</td>\n",
       "      <td>0.64</td>\n",
       "    </tr>\n",
       "    <tr>\n",
       "      <th>2024-02-18</th>\n",
       "      <td>6</td>\n",
       "      <td>6</td>\n",
       "      <td>False</td>\n",
       "      <td>0.06</td>\n",
       "      <td>0.36</td>\n",
       "    </tr>\n",
       "    <tr>\n",
       "      <th>2024-02-19</th>\n",
       "      <td>12</td>\n",
       "      <td>12</td>\n",
       "      <td>False</td>\n",
       "      <td>0.12</td>\n",
       "      <td>1.44</td>\n",
       "    </tr>\n",
       "    <tr>\n",
       "      <th>2024-02-20</th>\n",
       "      <td>28</td>\n",
       "      <td>28</td>\n",
       "      <td>False</td>\n",
       "      <td>0.28</td>\n",
       "      <td>7.84</td>\n",
       "    </tr>\n",
       "    <tr>\n",
       "      <th>2024-02-21</th>\n",
       "      <td>32</td>\n",
       "      <td>32</td>\n",
       "      <td>False</td>\n",
       "      <td>0.32</td>\n",
       "      <td>10.24</td>\n",
       "    </tr>\n",
       "    <tr>\n",
       "      <th>2024-02-22</th>\n",
       "      <td>35</td>\n",
       "      <td>35</td>\n",
       "      <td>False</td>\n",
       "      <td>0.35</td>\n",
       "      <td>12.25</td>\n",
       "    </tr>\n",
       "    <tr>\n",
       "      <th>2024-02-23</th>\n",
       "      <td>32</td>\n",
       "      <td>32</td>\n",
       "      <td>False</td>\n",
       "      <td>0.32</td>\n",
       "      <td>10.24</td>\n",
       "    </tr>\n",
       "    <tr>\n",
       "      <th>2024-02-24</th>\n",
       "      <td>10</td>\n",
       "      <td>10</td>\n",
       "      <td>False</td>\n",
       "      <td>0.10</td>\n",
       "      <td>1.00</td>\n",
       "    </tr>\n",
       "    <tr>\n",
       "      <th>2024-02-25</th>\n",
       "      <td>7</td>\n",
       "      <td>7</td>\n",
       "      <td>False</td>\n",
       "      <td>0.07</td>\n",
       "      <td>0.49</td>\n",
       "    </tr>\n",
       "    <tr>\n",
       "      <th>2024-02-26</th>\n",
       "      <td>25</td>\n",
       "      <td>25</td>\n",
       "      <td>False</td>\n",
       "      <td>0.25</td>\n",
       "      <td>6.25</td>\n",
       "    </tr>\n",
       "    <tr>\n",
       "      <th>2024-02-27</th>\n",
       "      <td>23</td>\n",
       "      <td>23</td>\n",
       "      <td>False</td>\n",
       "      <td>0.23</td>\n",
       "      <td>5.29</td>\n",
       "    </tr>\n",
       "    <tr>\n",
       "      <th>2024-02-28</th>\n",
       "      <td>21</td>\n",
       "      <td>21</td>\n",
       "      <td>False</td>\n",
       "      <td>0.21</td>\n",
       "      <td>4.41</td>\n",
       "    </tr>\n",
       "    <tr>\n",
       "      <th>2024-02-29</th>\n",
       "      <td>24</td>\n",
       "      <td>24</td>\n",
       "      <td>False</td>\n",
       "      <td>0.24</td>\n",
       "      <td>5.76</td>\n",
       "    </tr>\n",
       "    <tr>\n",
       "      <th>2024-03-01</th>\n",
       "      <td>100</td>\n",
       "      <td>30</td>\n",
       "      <td>False</td>\n",
       "      <td>0.30</td>\n",
       "      <td>30.00</td>\n",
       "    </tr>\n",
       "    <tr>\n",
       "      <th>2024-03-02</th>\n",
       "      <td>30</td>\n",
       "      <td>9</td>\n",
       "      <td>False</td>\n",
       "      <td>0.09</td>\n",
       "      <td>2.70</td>\n",
       "    </tr>\n",
       "    <tr>\n",
       "      <th>2024-03-03</th>\n",
       "      <td>21</td>\n",
       "      <td>6</td>\n",
       "      <td>False</td>\n",
       "      <td>0.06</td>\n",
       "      <td>1.26</td>\n",
       "    </tr>\n",
       "    <tr>\n",
       "      <th>2024-03-04</th>\n",
       "      <td>95</td>\n",
       "      <td>29</td>\n",
       "      <td>False</td>\n",
       "      <td>0.29</td>\n",
       "      <td>27.55</td>\n",
       "    </tr>\n",
       "    <tr>\n",
       "      <th>2024-03-05</th>\n",
       "      <td>89</td>\n",
       "      <td>27</td>\n",
       "      <td>False</td>\n",
       "      <td>0.27</td>\n",
       "      <td>24.03</td>\n",
       "    </tr>\n",
       "    <tr>\n",
       "      <th>2024-03-06</th>\n",
       "      <td>82</td>\n",
       "      <td>25</td>\n",
       "      <td>False</td>\n",
       "      <td>0.25</td>\n",
       "      <td>20.50</td>\n",
       "    </tr>\n",
       "    <tr>\n",
       "      <th>2024-03-07</th>\n",
       "      <td>84</td>\n",
       "      <td>25</td>\n",
       "      <td>False</td>\n",
       "      <td>0.25</td>\n",
       "      <td>21.00</td>\n",
       "    </tr>\n",
       "    <tr>\n",
       "      <th>2024-03-08</th>\n",
       "      <td>93</td>\n",
       "      <td>28</td>\n",
       "      <td>False</td>\n",
       "      <td>0.28</td>\n",
       "      <td>26.04</td>\n",
       "    </tr>\n",
       "    <tr>\n",
       "      <th>2024-03-09</th>\n",
       "      <td>23</td>\n",
       "      <td>7</td>\n",
       "      <td>False</td>\n",
       "      <td>0.07</td>\n",
       "      <td>1.61</td>\n",
       "    </tr>\n",
       "    <tr>\n",
       "      <th>2024-03-10</th>\n",
       "      <td>18</td>\n",
       "      <td>5</td>\n",
       "      <td>False</td>\n",
       "      <td>0.05</td>\n",
       "      <td>0.90</td>\n",
       "    </tr>\n",
       "    <tr>\n",
       "      <th>2024-03-11</th>\n",
       "      <td>77</td>\n",
       "      <td>23</td>\n",
       "      <td>False</td>\n",
       "      <td>0.23</td>\n",
       "      <td>17.71</td>\n",
       "    </tr>\n",
       "    <tr>\n",
       "      <th>2024-03-12</th>\n",
       "      <td>79</td>\n",
       "      <td>24</td>\n",
       "      <td>False</td>\n",
       "      <td>0.24</td>\n",
       "      <td>18.96</td>\n",
       "    </tr>\n",
       "    <tr>\n",
       "      <th>2024-03-13</th>\n",
       "      <td>80</td>\n",
       "      <td>24</td>\n",
       "      <td>False</td>\n",
       "      <td>0.24</td>\n",
       "      <td>19.20</td>\n",
       "    </tr>\n",
       "    <tr>\n",
       "      <th>2024-03-14</th>\n",
       "      <td>82</td>\n",
       "      <td>25</td>\n",
       "      <td>False</td>\n",
       "      <td>0.25</td>\n",
       "      <td>20.50</td>\n",
       "    </tr>\n",
       "    <tr>\n",
       "      <th>2024-03-15</th>\n",
       "      <td>78</td>\n",
       "      <td>23</td>\n",
       "      <td>False</td>\n",
       "      <td>0.23</td>\n",
       "      <td>17.94</td>\n",
       "    </tr>\n",
       "    <tr>\n",
       "      <th>2024-03-16</th>\n",
       "      <td>25</td>\n",
       "      <td>8</td>\n",
       "      <td>False</td>\n",
       "      <td>0.08</td>\n",
       "      <td>2.00</td>\n",
       "    </tr>\n",
       "    <tr>\n",
       "      <th>2024-03-17</th>\n",
       "      <td>19</td>\n",
       "      <td>6</td>\n",
       "      <td>False</td>\n",
       "      <td>0.06</td>\n",
       "      <td>1.14</td>\n",
       "    </tr>\n",
       "    <tr>\n",
       "      <th>2024-03-18</th>\n",
       "      <td>78</td>\n",
       "      <td>23</td>\n",
       "      <td>False</td>\n",
       "      <td>0.23</td>\n",
       "      <td>17.94</td>\n",
       "    </tr>\n",
       "    <tr>\n",
       "      <th>2024-03-19</th>\n",
       "      <td>78</td>\n",
       "      <td>24</td>\n",
       "      <td>False</td>\n",
       "      <td>0.24</td>\n",
       "      <td>18.72</td>\n",
       "    </tr>\n",
       "    <tr>\n",
       "      <th>2024-03-20</th>\n",
       "      <td>83</td>\n",
       "      <td>25</td>\n",
       "      <td>False</td>\n",
       "      <td>0.25</td>\n",
       "      <td>20.75</td>\n",
       "    </tr>\n",
       "    <tr>\n",
       "      <th>2024-03-21</th>\n",
       "      <td>100</td>\n",
       "      <td>30</td>\n",
       "      <td>False</td>\n",
       "      <td>0.30</td>\n",
       "      <td>30.00</td>\n",
       "    </tr>\n",
       "    <tr>\n",
       "      <th>2024-03-22</th>\n",
       "      <td>81</td>\n",
       "      <td>24</td>\n",
       "      <td>False</td>\n",
       "      <td>0.24</td>\n",
       "      <td>19.44</td>\n",
       "    </tr>\n",
       "    <tr>\n",
       "      <th>2024-03-23</th>\n",
       "      <td>26</td>\n",
       "      <td>8</td>\n",
       "      <td>False</td>\n",
       "      <td>0.08</td>\n",
       "      <td>2.08</td>\n",
       "    </tr>\n",
       "    <tr>\n",
       "      <th>2024-03-24</th>\n",
       "      <td>23</td>\n",
       "      <td>7</td>\n",
       "      <td>False</td>\n",
       "      <td>0.07</td>\n",
       "      <td>1.61</td>\n",
       "    </tr>\n",
       "    <tr>\n",
       "      <th>2024-03-25</th>\n",
       "      <td>79</td>\n",
       "      <td>24</td>\n",
       "      <td>False</td>\n",
       "      <td>0.24</td>\n",
       "      <td>18.96</td>\n",
       "    </tr>\n",
       "    <tr>\n",
       "      <th>2024-03-26</th>\n",
       "      <td>77</td>\n",
       "      <td>23</td>\n",
       "      <td>False</td>\n",
       "      <td>0.23</td>\n",
       "      <td>17.71</td>\n",
       "    </tr>\n",
       "    <tr>\n",
       "      <th>2024-03-27</th>\n",
       "      <td>76</td>\n",
       "      <td>23</td>\n",
       "      <td>False</td>\n",
       "      <td>0.23</td>\n",
       "      <td>17.48</td>\n",
       "    </tr>\n",
       "    <tr>\n",
       "      <th>2024-03-28</th>\n",
       "      <td>90</td>\n",
       "      <td>27</td>\n",
       "      <td>False</td>\n",
       "      <td>0.27</td>\n",
       "      <td>24.30</td>\n",
       "    </tr>\n",
       "    <tr>\n",
       "      <th>2024-03-29</th>\n",
       "      <td>46</td>\n",
       "      <td>14</td>\n",
       "      <td>False</td>\n",
       "      <td>0.14</td>\n",
       "      <td>6.44</td>\n",
       "    </tr>\n",
       "    <tr>\n",
       "      <th>2024-03-30</th>\n",
       "      <td>19</td>\n",
       "      <td>6</td>\n",
       "      <td>False</td>\n",
       "      <td>0.06</td>\n",
       "      <td>1.14</td>\n",
       "    </tr>\n",
       "    <tr>\n",
       "      <th>2024-03-31</th>\n",
       "      <td>18</td>\n",
       "      <td>6</td>\n",
       "      <td>False</td>\n",
       "      <td>0.06</td>\n",
       "      <td>1.08</td>\n",
       "    </tr>\n",
       "  </tbody>\n",
       "</table>\n",
       "</div>"
      ],
      "text/plain": [
       "            AMZN_unscaled  AMZN_monthly  isPartial  scale    AMZN\n",
       "date                                                             \n",
       "2024-02-01             84            84      False   0.84   70.56\n",
       "2024-02-02            100           100      False   1.00  100.00\n",
       "2024-02-03             20            20      False   0.20    4.00\n",
       "2024-02-04             10            10      False   0.10    1.00\n",
       "2024-02-05             39            39      False   0.39   15.21\n",
       "2024-02-06             33            33      False   0.33   10.89\n",
       "2024-02-07             32            32      False   0.32   10.24\n",
       "2024-02-08             33            33      False   0.33   10.89\n",
       "2024-02-09             34            34      False   0.34   11.56\n",
       "2024-02-10             14            14      False   0.14    1.96\n",
       "2024-02-11             10            10      False   0.10    1.00\n",
       "2024-02-12             33            33      False   0.33   10.89\n",
       "2024-02-13             31            31      False   0.31    9.61\n",
       "2024-02-14             30            30      False   0.30    9.00\n",
       "2024-02-15             28            28      False   0.28    7.84\n",
       "2024-02-16             28            28      False   0.28    7.84\n",
       "2024-02-17              8             8      False   0.08    0.64\n",
       "2024-02-18              6             6      False   0.06    0.36\n",
       "2024-02-19             12            12      False   0.12    1.44\n",
       "2024-02-20             28            28      False   0.28    7.84\n",
       "2024-02-21             32            32      False   0.32   10.24\n",
       "2024-02-22             35            35      False   0.35   12.25\n",
       "2024-02-23             32            32      False   0.32   10.24\n",
       "2024-02-24             10            10      False   0.10    1.00\n",
       "2024-02-25              7             7      False   0.07    0.49\n",
       "2024-02-26             25            25      False   0.25    6.25\n",
       "2024-02-27             23            23      False   0.23    5.29\n",
       "2024-02-28             21            21      False   0.21    4.41\n",
       "2024-02-29             24            24      False   0.24    5.76\n",
       "2024-03-01            100            30      False   0.30   30.00\n",
       "2024-03-02             30             9      False   0.09    2.70\n",
       "2024-03-03             21             6      False   0.06    1.26\n",
       "2024-03-04             95            29      False   0.29   27.55\n",
       "2024-03-05             89            27      False   0.27   24.03\n",
       "2024-03-06             82            25      False   0.25   20.50\n",
       "2024-03-07             84            25      False   0.25   21.00\n",
       "2024-03-08             93            28      False   0.28   26.04\n",
       "2024-03-09             23             7      False   0.07    1.61\n",
       "2024-03-10             18             5      False   0.05    0.90\n",
       "2024-03-11             77            23      False   0.23   17.71\n",
       "2024-03-12             79            24      False   0.24   18.96\n",
       "2024-03-13             80            24      False   0.24   19.20\n",
       "2024-03-14             82            25      False   0.25   20.50\n",
       "2024-03-15             78            23      False   0.23   17.94\n",
       "2024-03-16             25             8      False   0.08    2.00\n",
       "2024-03-17             19             6      False   0.06    1.14\n",
       "2024-03-18             78            23      False   0.23   17.94\n",
       "2024-03-19             78            24      False   0.24   18.72\n",
       "2024-03-20             83            25      False   0.25   20.75\n",
       "2024-03-21            100            30      False   0.30   30.00\n",
       "2024-03-22             81            24      False   0.24   19.44\n",
       "2024-03-23             26             8      False   0.08    2.08\n",
       "2024-03-24             23             7      False   0.07    1.61\n",
       "2024-03-25             79            24      False   0.24   18.96\n",
       "2024-03-26             77            23      False   0.23   17.71\n",
       "2024-03-27             76            23      False   0.23   17.48\n",
       "2024-03-28             90            27      False   0.27   24.30\n",
       "2024-03-29             46            14      False   0.14    6.44\n",
       "2024-03-30             19             6      False   0.06    1.14\n",
       "2024-03-31             18             6      False   0.06    1.08"
      ]
     },
     "metadata": {},
     "output_type": "display_data"
    }
   ],
   "source": [
    "from pytrends import dailydata\n",
    "res = dailydata.get_daily_data(\"AMZN\", start_year=2024, start_mon=2, stop_year=2024, stop_mon=3, geo = '')\n",
    "display(res)\n"
   ]
  },
  {
   "cell_type": "code",
   "execution_count": 5,
   "id": "807d9781",
   "metadata": {},
   "outputs": [
    {
     "data": {
      "application/vnd.plotly.v1+json": {
       "config": {
        "plotlyServerURL": "https://plot.ly"
       },
       "data": [
        {
         "hovertemplate": "variable=AMZN_unscaled<br>date=%{x}<br>value=%{y}<extra></extra>",
         "legendgroup": "AMZN_unscaled",
         "line": {
          "color": "#636efa",
          "dash": "solid"
         },
         "marker": {
          "symbol": "circle"
         },
         "mode": "lines",
         "name": "AMZN_unscaled",
         "orientation": "v",
         "showlegend": true,
         "type": "scatter",
         "x": [
          "2024-02-01T00:00:00",
          "2024-02-02T00:00:00",
          "2024-02-03T00:00:00",
          "2024-02-04T00:00:00",
          "2024-02-05T00:00:00",
          "2024-02-06T00:00:00",
          "2024-02-07T00:00:00",
          "2024-02-08T00:00:00",
          "2024-02-09T00:00:00",
          "2024-02-10T00:00:00",
          "2024-02-11T00:00:00",
          "2024-02-12T00:00:00",
          "2024-02-13T00:00:00",
          "2024-02-14T00:00:00",
          "2024-02-15T00:00:00",
          "2024-02-16T00:00:00",
          "2024-02-17T00:00:00",
          "2024-02-18T00:00:00",
          "2024-02-19T00:00:00",
          "2024-02-20T00:00:00",
          "2024-02-21T00:00:00",
          "2024-02-22T00:00:00",
          "2024-02-23T00:00:00",
          "2024-02-24T00:00:00",
          "2024-02-25T00:00:00",
          "2024-02-26T00:00:00",
          "2024-02-27T00:00:00",
          "2024-02-28T00:00:00",
          "2024-02-29T00:00:00",
          "2024-03-01T00:00:00",
          "2024-03-02T00:00:00",
          "2024-03-03T00:00:00",
          "2024-03-04T00:00:00",
          "2024-03-05T00:00:00",
          "2024-03-06T00:00:00",
          "2024-03-07T00:00:00",
          "2024-03-08T00:00:00",
          "2024-03-09T00:00:00",
          "2024-03-10T00:00:00",
          "2024-03-11T00:00:00",
          "2024-03-12T00:00:00",
          "2024-03-13T00:00:00",
          "2024-03-14T00:00:00",
          "2024-03-15T00:00:00",
          "2024-03-16T00:00:00",
          "2024-03-17T00:00:00",
          "2024-03-18T00:00:00",
          "2024-03-19T00:00:00",
          "2024-03-20T00:00:00",
          "2024-03-21T00:00:00",
          "2024-03-22T00:00:00",
          "2024-03-23T00:00:00",
          "2024-03-24T00:00:00",
          "2024-03-25T00:00:00",
          "2024-03-26T00:00:00",
          "2024-03-27T00:00:00",
          "2024-03-28T00:00:00",
          "2024-03-29T00:00:00",
          "2024-03-30T00:00:00",
          "2024-03-31T00:00:00"
         ],
         "xaxis": "x",
         "y": [
          84,
          100,
          20,
          10,
          39,
          33,
          32,
          33,
          34,
          14,
          10,
          33,
          31,
          30,
          28,
          28,
          8,
          6,
          12,
          28,
          32,
          35,
          32,
          10,
          7,
          25,
          23,
          21,
          24,
          100,
          30,
          21,
          95,
          89,
          82,
          84,
          93,
          23,
          18,
          77,
          79,
          80,
          82,
          78,
          25,
          19,
          78,
          78,
          83,
          100,
          81,
          26,
          23,
          79,
          77,
          76,
          90,
          46,
          19,
          18
         ],
         "yaxis": "y"
        }
       ],
       "layout": {
        "legend": {
         "title": {
          "text": "variable"
         },
         "tracegroupgap": 0
        },
        "template": {
         "data": {
          "bar": [
           {
            "error_x": {
             "color": "#2a3f5f"
            },
            "error_y": {
             "color": "#2a3f5f"
            },
            "marker": {
             "line": {
              "color": "#E5ECF6",
              "width": 0.5
             },
             "pattern": {
              "fillmode": "overlay",
              "size": 10,
              "solidity": 0.2
             }
            },
            "type": "bar"
           }
          ],
          "barpolar": [
           {
            "marker": {
             "line": {
              "color": "#E5ECF6",
              "width": 0.5
             },
             "pattern": {
              "fillmode": "overlay",
              "size": 10,
              "solidity": 0.2
             }
            },
            "type": "barpolar"
           }
          ],
          "carpet": [
           {
            "aaxis": {
             "endlinecolor": "#2a3f5f",
             "gridcolor": "white",
             "linecolor": "white",
             "minorgridcolor": "white",
             "startlinecolor": "#2a3f5f"
            },
            "baxis": {
             "endlinecolor": "#2a3f5f",
             "gridcolor": "white",
             "linecolor": "white",
             "minorgridcolor": "white",
             "startlinecolor": "#2a3f5f"
            },
            "type": "carpet"
           }
          ],
          "choropleth": [
           {
            "colorbar": {
             "outlinewidth": 0,
             "ticks": ""
            },
            "type": "choropleth"
           }
          ],
          "contour": [
           {
            "colorbar": {
             "outlinewidth": 0,
             "ticks": ""
            },
            "colorscale": [
             [
              0,
              "#0d0887"
             ],
             [
              0.1111111111111111,
              "#46039f"
             ],
             [
              0.2222222222222222,
              "#7201a8"
             ],
             [
              0.3333333333333333,
              "#9c179e"
             ],
             [
              0.4444444444444444,
              "#bd3786"
             ],
             [
              0.5555555555555556,
              "#d8576b"
             ],
             [
              0.6666666666666666,
              "#ed7953"
             ],
             [
              0.7777777777777778,
              "#fb9f3a"
             ],
             [
              0.8888888888888888,
              "#fdca26"
             ],
             [
              1,
              "#f0f921"
             ]
            ],
            "type": "contour"
           }
          ],
          "contourcarpet": [
           {
            "colorbar": {
             "outlinewidth": 0,
             "ticks": ""
            },
            "type": "contourcarpet"
           }
          ],
          "heatmap": [
           {
            "colorbar": {
             "outlinewidth": 0,
             "ticks": ""
            },
            "colorscale": [
             [
              0,
              "#0d0887"
             ],
             [
              0.1111111111111111,
              "#46039f"
             ],
             [
              0.2222222222222222,
              "#7201a8"
             ],
             [
              0.3333333333333333,
              "#9c179e"
             ],
             [
              0.4444444444444444,
              "#bd3786"
             ],
             [
              0.5555555555555556,
              "#d8576b"
             ],
             [
              0.6666666666666666,
              "#ed7953"
             ],
             [
              0.7777777777777778,
              "#fb9f3a"
             ],
             [
              0.8888888888888888,
              "#fdca26"
             ],
             [
              1,
              "#f0f921"
             ]
            ],
            "type": "heatmap"
           }
          ],
          "heatmapgl": [
           {
            "colorbar": {
             "outlinewidth": 0,
             "ticks": ""
            },
            "colorscale": [
             [
              0,
              "#0d0887"
             ],
             [
              0.1111111111111111,
              "#46039f"
             ],
             [
              0.2222222222222222,
              "#7201a8"
             ],
             [
              0.3333333333333333,
              "#9c179e"
             ],
             [
              0.4444444444444444,
              "#bd3786"
             ],
             [
              0.5555555555555556,
              "#d8576b"
             ],
             [
              0.6666666666666666,
              "#ed7953"
             ],
             [
              0.7777777777777778,
              "#fb9f3a"
             ],
             [
              0.8888888888888888,
              "#fdca26"
             ],
             [
              1,
              "#f0f921"
             ]
            ],
            "type": "heatmapgl"
           }
          ],
          "histogram": [
           {
            "marker": {
             "pattern": {
              "fillmode": "overlay",
              "size": 10,
              "solidity": 0.2
             }
            },
            "type": "histogram"
           }
          ],
          "histogram2d": [
           {
            "colorbar": {
             "outlinewidth": 0,
             "ticks": ""
            },
            "colorscale": [
             [
              0,
              "#0d0887"
             ],
             [
              0.1111111111111111,
              "#46039f"
             ],
             [
              0.2222222222222222,
              "#7201a8"
             ],
             [
              0.3333333333333333,
              "#9c179e"
             ],
             [
              0.4444444444444444,
              "#bd3786"
             ],
             [
              0.5555555555555556,
              "#d8576b"
             ],
             [
              0.6666666666666666,
              "#ed7953"
             ],
             [
              0.7777777777777778,
              "#fb9f3a"
             ],
             [
              0.8888888888888888,
              "#fdca26"
             ],
             [
              1,
              "#f0f921"
             ]
            ],
            "type": "histogram2d"
           }
          ],
          "histogram2dcontour": [
           {
            "colorbar": {
             "outlinewidth": 0,
             "ticks": ""
            },
            "colorscale": [
             [
              0,
              "#0d0887"
             ],
             [
              0.1111111111111111,
              "#46039f"
             ],
             [
              0.2222222222222222,
              "#7201a8"
             ],
             [
              0.3333333333333333,
              "#9c179e"
             ],
             [
              0.4444444444444444,
              "#bd3786"
             ],
             [
              0.5555555555555556,
              "#d8576b"
             ],
             [
              0.6666666666666666,
              "#ed7953"
             ],
             [
              0.7777777777777778,
              "#fb9f3a"
             ],
             [
              0.8888888888888888,
              "#fdca26"
             ],
             [
              1,
              "#f0f921"
             ]
            ],
            "type": "histogram2dcontour"
           }
          ],
          "mesh3d": [
           {
            "colorbar": {
             "outlinewidth": 0,
             "ticks": ""
            },
            "type": "mesh3d"
           }
          ],
          "parcoords": [
           {
            "line": {
             "colorbar": {
              "outlinewidth": 0,
              "ticks": ""
             }
            },
            "type": "parcoords"
           }
          ],
          "pie": [
           {
            "automargin": true,
            "type": "pie"
           }
          ],
          "scatter": [
           {
            "fillpattern": {
             "fillmode": "overlay",
             "size": 10,
             "solidity": 0.2
            },
            "type": "scatter"
           }
          ],
          "scatter3d": [
           {
            "line": {
             "colorbar": {
              "outlinewidth": 0,
              "ticks": ""
             }
            },
            "marker": {
             "colorbar": {
              "outlinewidth": 0,
              "ticks": ""
             }
            },
            "type": "scatter3d"
           }
          ],
          "scattercarpet": [
           {
            "marker": {
             "colorbar": {
              "outlinewidth": 0,
              "ticks": ""
             }
            },
            "type": "scattercarpet"
           }
          ],
          "scattergeo": [
           {
            "marker": {
             "colorbar": {
              "outlinewidth": 0,
              "ticks": ""
             }
            },
            "type": "scattergeo"
           }
          ],
          "scattergl": [
           {
            "marker": {
             "colorbar": {
              "outlinewidth": 0,
              "ticks": ""
             }
            },
            "type": "scattergl"
           }
          ],
          "scattermapbox": [
           {
            "marker": {
             "colorbar": {
              "outlinewidth": 0,
              "ticks": ""
             }
            },
            "type": "scattermapbox"
           }
          ],
          "scatterpolar": [
           {
            "marker": {
             "colorbar": {
              "outlinewidth": 0,
              "ticks": ""
             }
            },
            "type": "scatterpolar"
           }
          ],
          "scatterpolargl": [
           {
            "marker": {
             "colorbar": {
              "outlinewidth": 0,
              "ticks": ""
             }
            },
            "type": "scatterpolargl"
           }
          ],
          "scatterternary": [
           {
            "marker": {
             "colorbar": {
              "outlinewidth": 0,
              "ticks": ""
             }
            },
            "type": "scatterternary"
           }
          ],
          "surface": [
           {
            "colorbar": {
             "outlinewidth": 0,
             "ticks": ""
            },
            "colorscale": [
             [
              0,
              "#0d0887"
             ],
             [
              0.1111111111111111,
              "#46039f"
             ],
             [
              0.2222222222222222,
              "#7201a8"
             ],
             [
              0.3333333333333333,
              "#9c179e"
             ],
             [
              0.4444444444444444,
              "#bd3786"
             ],
             [
              0.5555555555555556,
              "#d8576b"
             ],
             [
              0.6666666666666666,
              "#ed7953"
             ],
             [
              0.7777777777777778,
              "#fb9f3a"
             ],
             [
              0.8888888888888888,
              "#fdca26"
             ],
             [
              1,
              "#f0f921"
             ]
            ],
            "type": "surface"
           }
          ],
          "table": [
           {
            "cells": {
             "fill": {
              "color": "#EBF0F8"
             },
             "line": {
              "color": "white"
             }
            },
            "header": {
             "fill": {
              "color": "#C8D4E3"
             },
             "line": {
              "color": "white"
             }
            },
            "type": "table"
           }
          ]
         },
         "layout": {
          "annotationdefaults": {
           "arrowcolor": "#2a3f5f",
           "arrowhead": 0,
           "arrowwidth": 1
          },
          "autotypenumbers": "strict",
          "coloraxis": {
           "colorbar": {
            "outlinewidth": 0,
            "ticks": ""
           }
          },
          "colorscale": {
           "diverging": [
            [
             0,
             "#8e0152"
            ],
            [
             0.1,
             "#c51b7d"
            ],
            [
             0.2,
             "#de77ae"
            ],
            [
             0.3,
             "#f1b6da"
            ],
            [
             0.4,
             "#fde0ef"
            ],
            [
             0.5,
             "#f7f7f7"
            ],
            [
             0.6,
             "#e6f5d0"
            ],
            [
             0.7,
             "#b8e186"
            ],
            [
             0.8,
             "#7fbc41"
            ],
            [
             0.9,
             "#4d9221"
            ],
            [
             1,
             "#276419"
            ]
           ],
           "sequential": [
            [
             0,
             "#0d0887"
            ],
            [
             0.1111111111111111,
             "#46039f"
            ],
            [
             0.2222222222222222,
             "#7201a8"
            ],
            [
             0.3333333333333333,
             "#9c179e"
            ],
            [
             0.4444444444444444,
             "#bd3786"
            ],
            [
             0.5555555555555556,
             "#d8576b"
            ],
            [
             0.6666666666666666,
             "#ed7953"
            ],
            [
             0.7777777777777778,
             "#fb9f3a"
            ],
            [
             0.8888888888888888,
             "#fdca26"
            ],
            [
             1,
             "#f0f921"
            ]
           ],
           "sequentialminus": [
            [
             0,
             "#0d0887"
            ],
            [
             0.1111111111111111,
             "#46039f"
            ],
            [
             0.2222222222222222,
             "#7201a8"
            ],
            [
             0.3333333333333333,
             "#9c179e"
            ],
            [
             0.4444444444444444,
             "#bd3786"
            ],
            [
             0.5555555555555556,
             "#d8576b"
            ],
            [
             0.6666666666666666,
             "#ed7953"
            ],
            [
             0.7777777777777778,
             "#fb9f3a"
            ],
            [
             0.8888888888888888,
             "#fdca26"
            ],
            [
             1,
             "#f0f921"
            ]
           ]
          },
          "colorway": [
           "#636efa",
           "#EF553B",
           "#00cc96",
           "#ab63fa",
           "#FFA15A",
           "#19d3f3",
           "#FF6692",
           "#B6E880",
           "#FF97FF",
           "#FECB52"
          ],
          "font": {
           "color": "#2a3f5f"
          },
          "geo": {
           "bgcolor": "white",
           "lakecolor": "white",
           "landcolor": "#E5ECF6",
           "showlakes": true,
           "showland": true,
           "subunitcolor": "white"
          },
          "hoverlabel": {
           "align": "left"
          },
          "hovermode": "closest",
          "mapbox": {
           "style": "light"
          },
          "paper_bgcolor": "white",
          "plot_bgcolor": "#E5ECF6",
          "polar": {
           "angularaxis": {
            "gridcolor": "white",
            "linecolor": "white",
            "ticks": ""
           },
           "bgcolor": "#E5ECF6",
           "radialaxis": {
            "gridcolor": "white",
            "linecolor": "white",
            "ticks": ""
           }
          },
          "scene": {
           "xaxis": {
            "backgroundcolor": "#E5ECF6",
            "gridcolor": "white",
            "gridwidth": 2,
            "linecolor": "white",
            "showbackground": true,
            "ticks": "",
            "zerolinecolor": "white"
           },
           "yaxis": {
            "backgroundcolor": "#E5ECF6",
            "gridcolor": "white",
            "gridwidth": 2,
            "linecolor": "white",
            "showbackground": true,
            "ticks": "",
            "zerolinecolor": "white"
           },
           "zaxis": {
            "backgroundcolor": "#E5ECF6",
            "gridcolor": "white",
            "gridwidth": 2,
            "linecolor": "white",
            "showbackground": true,
            "ticks": "",
            "zerolinecolor": "white"
           }
          },
          "shapedefaults": {
           "line": {
            "color": "#2a3f5f"
           }
          },
          "ternary": {
           "aaxis": {
            "gridcolor": "white",
            "linecolor": "white",
            "ticks": ""
           },
           "baxis": {
            "gridcolor": "white",
            "linecolor": "white",
            "ticks": ""
           },
           "bgcolor": "#E5ECF6",
           "caxis": {
            "gridcolor": "white",
            "linecolor": "white",
            "ticks": ""
           }
          },
          "title": {
           "x": 0.05
          },
          "xaxis": {
           "automargin": true,
           "gridcolor": "white",
           "linecolor": "white",
           "ticks": "",
           "title": {
            "standoff": 15
           },
           "zerolinecolor": "white",
           "zerolinewidth": 2
          },
          "yaxis": {
           "automargin": true,
           "gridcolor": "white",
           "linecolor": "white",
           "ticks": "",
           "title": {
            "standoff": 15
           },
           "zerolinecolor": "white",
           "zerolinewidth": 2
          }
         }
        },
        "title": {
         "text": "Keyword Web Search Interest Over Time"
        },
        "xaxis": {
         "anchor": "y",
         "domain": [
          0,
          1
         ],
         "title": {
          "text": "date"
         }
        },
        "yaxis": {
         "anchor": "x",
         "domain": [
          0,
          1
         ],
         "title": {
          "text": "value"
         }
        }
       }
      }
     },
     "metadata": {},
     "output_type": "display_data"
    }
   ],
   "source": [
    "amzn_daily = res\n",
    "fig = px.line(amzn_daily, y=['AMZN_unscaled'], title='Keyword Web Search Interest Over Time')\n",
    "fig.show()"
   ]
  },
  {
   "cell_type": "code",
   "execution_count": 8,
   "id": "bb6237b7",
   "metadata": {},
   "outputs": [
    {
     "data": {
      "application/vnd.plotly.v1+json": {
       "config": {
        "plotlyServerURL": "https://plot.ly"
       },
       "data": [
        {
         "hovertemplate": "variable=AMZN<br>date=%{x}<br>value=%{y}<extra></extra>",
         "legendgroup": "AMZN",
         "line": {
          "color": "#636efa",
          "dash": "solid"
         },
         "marker": {
          "symbol": "circle"
         },
         "mode": "lines",
         "name": "AMZN",
         "orientation": "v",
         "showlegend": true,
         "type": "scatter",
         "x": [
          "2019-03-31T00:00:00",
          "2019-04-07T00:00:00",
          "2019-04-14T00:00:00",
          "2019-04-21T00:00:00",
          "2019-04-28T00:00:00",
          "2019-05-05T00:00:00",
          "2019-05-12T00:00:00",
          "2019-05-19T00:00:00",
          "2019-05-26T00:00:00",
          "2019-06-02T00:00:00",
          "2019-06-09T00:00:00",
          "2019-06-16T00:00:00",
          "2019-06-23T00:00:00",
          "2019-06-30T00:00:00",
          "2019-07-07T00:00:00",
          "2019-07-14T00:00:00",
          "2019-07-21T00:00:00",
          "2019-07-28T00:00:00",
          "2019-08-04T00:00:00",
          "2019-08-11T00:00:00",
          "2019-08-18T00:00:00",
          "2019-08-25T00:00:00",
          "2019-09-01T00:00:00",
          "2019-09-08T00:00:00",
          "2019-09-15T00:00:00",
          "2019-09-22T00:00:00",
          "2019-09-29T00:00:00",
          "2019-10-06T00:00:00",
          "2019-10-13T00:00:00",
          "2019-10-20T00:00:00",
          "2019-10-27T00:00:00",
          "2019-11-03T00:00:00",
          "2019-11-10T00:00:00",
          "2019-11-17T00:00:00",
          "2019-11-24T00:00:00",
          "2019-12-01T00:00:00",
          "2019-12-08T00:00:00",
          "2019-12-15T00:00:00",
          "2019-12-22T00:00:00",
          "2019-12-29T00:00:00",
          "2020-01-05T00:00:00",
          "2020-01-12T00:00:00",
          "2020-01-19T00:00:00",
          "2020-01-26T00:00:00",
          "2020-02-02T00:00:00",
          "2020-02-09T00:00:00",
          "2020-02-16T00:00:00",
          "2020-02-23T00:00:00",
          "2020-03-01T00:00:00",
          "2020-03-08T00:00:00",
          "2020-03-15T00:00:00",
          "2020-03-22T00:00:00",
          "2020-03-29T00:00:00",
          "2020-04-05T00:00:00",
          "2020-04-12T00:00:00",
          "2020-04-19T00:00:00",
          "2020-04-26T00:00:00",
          "2020-05-03T00:00:00",
          "2020-05-10T00:00:00",
          "2020-05-17T00:00:00",
          "2020-05-24T00:00:00",
          "2020-05-31T00:00:00",
          "2020-06-07T00:00:00",
          "2020-06-14T00:00:00",
          "2020-06-21T00:00:00",
          "2020-06-28T00:00:00",
          "2020-07-05T00:00:00",
          "2020-07-12T00:00:00",
          "2020-07-19T00:00:00",
          "2020-07-26T00:00:00",
          "2020-08-02T00:00:00",
          "2020-08-09T00:00:00",
          "2020-08-16T00:00:00",
          "2020-08-23T00:00:00",
          "2020-08-30T00:00:00",
          "2020-09-06T00:00:00",
          "2020-09-13T00:00:00",
          "2020-09-20T00:00:00",
          "2020-09-27T00:00:00",
          "2020-10-04T00:00:00",
          "2020-10-11T00:00:00",
          "2020-10-18T00:00:00",
          "2020-10-25T00:00:00",
          "2020-11-01T00:00:00",
          "2020-11-08T00:00:00",
          "2020-11-15T00:00:00",
          "2020-11-22T00:00:00",
          "2020-11-29T00:00:00",
          "2020-12-06T00:00:00",
          "2020-12-13T00:00:00",
          "2020-12-20T00:00:00",
          "2020-12-27T00:00:00",
          "2021-01-03T00:00:00",
          "2021-01-10T00:00:00",
          "2021-01-17T00:00:00",
          "2021-01-24T00:00:00",
          "2021-01-31T00:00:00",
          "2021-02-07T00:00:00",
          "2021-02-14T00:00:00",
          "2021-02-21T00:00:00",
          "2021-02-28T00:00:00",
          "2021-03-07T00:00:00",
          "2021-03-14T00:00:00",
          "2021-03-21T00:00:00",
          "2021-03-28T00:00:00",
          "2021-04-04T00:00:00",
          "2021-04-11T00:00:00",
          "2021-04-18T00:00:00",
          "2021-04-25T00:00:00",
          "2021-05-02T00:00:00",
          "2021-05-09T00:00:00",
          "2021-05-16T00:00:00",
          "2021-05-23T00:00:00",
          "2021-05-30T00:00:00",
          "2021-06-06T00:00:00",
          "2021-06-13T00:00:00",
          "2021-06-20T00:00:00",
          "2021-06-27T00:00:00",
          "2021-07-04T00:00:00",
          "2021-07-11T00:00:00",
          "2021-07-18T00:00:00",
          "2021-07-25T00:00:00",
          "2021-08-01T00:00:00",
          "2021-08-08T00:00:00",
          "2021-08-15T00:00:00",
          "2021-08-22T00:00:00",
          "2021-08-29T00:00:00",
          "2021-09-05T00:00:00",
          "2021-09-12T00:00:00",
          "2021-09-19T00:00:00",
          "2021-09-26T00:00:00",
          "2021-10-03T00:00:00",
          "2021-10-10T00:00:00",
          "2021-10-17T00:00:00",
          "2021-10-24T00:00:00",
          "2021-10-31T00:00:00",
          "2021-11-07T00:00:00",
          "2021-11-14T00:00:00",
          "2021-11-21T00:00:00",
          "2021-11-28T00:00:00",
          "2021-12-05T00:00:00",
          "2021-12-12T00:00:00",
          "2021-12-19T00:00:00",
          "2021-12-26T00:00:00",
          "2022-01-02T00:00:00",
          "2022-01-09T00:00:00",
          "2022-01-16T00:00:00",
          "2022-01-23T00:00:00",
          "2022-01-30T00:00:00",
          "2022-02-06T00:00:00",
          "2022-02-13T00:00:00",
          "2022-02-20T00:00:00",
          "2022-02-27T00:00:00",
          "2022-03-06T00:00:00",
          "2022-03-13T00:00:00",
          "2022-03-20T00:00:00",
          "2022-03-27T00:00:00",
          "2022-04-03T00:00:00",
          "2022-04-10T00:00:00",
          "2022-04-17T00:00:00",
          "2022-04-24T00:00:00",
          "2022-05-01T00:00:00",
          "2022-05-08T00:00:00",
          "2022-05-15T00:00:00",
          "2022-05-22T00:00:00",
          "2022-05-29T00:00:00",
          "2022-06-05T00:00:00",
          "2022-06-12T00:00:00",
          "2022-06-19T00:00:00",
          "2022-06-26T00:00:00",
          "2022-07-03T00:00:00",
          "2022-07-10T00:00:00",
          "2022-07-17T00:00:00",
          "2022-07-24T00:00:00",
          "2022-07-31T00:00:00",
          "2022-08-07T00:00:00",
          "2022-08-14T00:00:00",
          "2022-08-21T00:00:00",
          "2022-08-28T00:00:00",
          "2022-09-04T00:00:00",
          "2022-09-11T00:00:00",
          "2022-09-18T00:00:00",
          "2022-09-25T00:00:00",
          "2022-10-02T00:00:00",
          "2022-10-09T00:00:00",
          "2022-10-16T00:00:00",
          "2022-10-23T00:00:00",
          "2022-10-30T00:00:00",
          "2022-11-06T00:00:00",
          "2022-11-13T00:00:00",
          "2022-11-20T00:00:00",
          "2022-11-27T00:00:00",
          "2022-12-04T00:00:00",
          "2022-12-11T00:00:00",
          "2022-12-18T00:00:00",
          "2022-12-25T00:00:00",
          "2023-01-01T00:00:00",
          "2023-01-08T00:00:00",
          "2023-01-15T00:00:00",
          "2023-01-22T00:00:00",
          "2023-01-29T00:00:00",
          "2023-02-05T00:00:00",
          "2023-02-12T00:00:00",
          "2023-02-19T00:00:00",
          "2023-02-26T00:00:00",
          "2023-03-05T00:00:00",
          "2023-03-12T00:00:00",
          "2023-03-19T00:00:00",
          "2023-03-26T00:00:00",
          "2023-04-02T00:00:00",
          "2023-04-09T00:00:00",
          "2023-04-16T00:00:00",
          "2023-04-23T00:00:00",
          "2023-04-30T00:00:00",
          "2023-05-07T00:00:00",
          "2023-05-14T00:00:00",
          "2023-05-21T00:00:00",
          "2023-05-28T00:00:00",
          "2023-06-04T00:00:00",
          "2023-06-11T00:00:00",
          "2023-06-18T00:00:00",
          "2023-06-25T00:00:00",
          "2023-07-02T00:00:00",
          "2023-07-09T00:00:00",
          "2023-07-16T00:00:00",
          "2023-07-23T00:00:00",
          "2023-07-30T00:00:00",
          "2023-08-06T00:00:00",
          "2023-08-13T00:00:00",
          "2023-08-20T00:00:00",
          "2023-08-27T00:00:00",
          "2023-09-03T00:00:00",
          "2023-09-10T00:00:00",
          "2023-09-17T00:00:00",
          "2023-09-24T00:00:00",
          "2023-10-01T00:00:00",
          "2023-10-08T00:00:00",
          "2023-10-15T00:00:00",
          "2023-10-22T00:00:00",
          "2023-10-29T00:00:00",
          "2023-11-05T00:00:00",
          "2023-11-12T00:00:00",
          "2023-11-19T00:00:00",
          "2023-11-26T00:00:00",
          "2023-12-03T00:00:00",
          "2023-12-10T00:00:00",
          "2023-12-17T00:00:00",
          "2023-12-24T00:00:00",
          "2023-12-31T00:00:00",
          "2024-01-07T00:00:00",
          "2024-01-14T00:00:00",
          "2024-01-21T00:00:00",
          "2024-01-28T00:00:00",
          "2024-02-04T00:00:00",
          "2024-02-11T00:00:00",
          "2024-02-18T00:00:00",
          "2024-02-25T00:00:00",
          "2024-03-03T00:00:00",
          "2024-03-10T00:00:00",
          "2024-03-17T00:00:00",
          "2024-03-24T00:00:00",
          "2024-03-31T00:00:00"
         ],
         "xaxis": "x",
         "y": [
          70,
          65,
          64,
          100,
          82,
          75,
          77,
          72,
          60,
          70,
          61,
          52,
          36,
          31,
          46,
          43,
          55,
          42,
          45,
          42,
          38,
          33,
          29,
          29,
          29,
          30,
          29,
          27,
          28,
          61,
          34,
          27,
          27,
          26,
          25,
          27,
          25,
          27,
          29,
          31,
          33,
          31,
          26,
          71,
          50,
          46,
          31,
          54,
          46,
          68,
          74,
          58,
          41,
          37,
          76,
          61,
          90,
          51,
          41,
          47,
          32,
          36,
          50,
          37,
          44,
          44,
          70,
          70,
          72,
          87,
          54,
          48,
          52,
          53,
          62,
          49,
          50,
          51,
          44,
          42,
          53,
          42,
          60,
          49,
          52,
          39,
          33,
          38,
          33,
          34,
          29,
          31,
          37,
          32,
          35,
          41,
          79,
          33,
          27,
          33,
          31,
          33,
          27,
          25,
          23,
          32,
          30,
          26,
          59,
          29,
          32,
          25,
          25,
          20,
          24,
          27,
          28,
          25,
          40,
          30,
          31,
          59,
          34,
          26,
          29,
          27,
          29,
          22,
          22,
          23,
          23,
          24,
          24,
          25,
          43,
          28,
          27,
          29,
          23,
          29,
          25,
          25,
          23,
          22,
          27,
          21,
          27,
          43,
          82,
          35,
          26,
          24,
          22,
          52,
          37,
          30,
          33,
          27,
          22,
          29,
          77,
          61,
          54,
          41,
          46,
          47,
          78,
          53,
          38,
          33,
          29,
          31,
          41,
          70,
          48,
          41,
          36,
          30,
          26,
          21,
          29,
          27,
          27,
          23,
          24,
          27,
          77,
          52,
          48,
          45,
          23,
          28,
          28,
          28,
          32,
          26,
          32,
          37,
          31,
          37,
          69,
          38,
          29,
          26,
          24,
          23,
          28,
          28,
          25,
          23,
          24,
          29,
          63,
          31,
          29,
          32,
          33,
          32,
          35,
          36,
          28,
          28,
          23,
          33,
          33,
          33,
          59,
          34,
          27,
          24,
          26,
          22,
          28,
          25,
          27,
          23,
          23,
          26,
          52,
          32,
          31,
          32,
          26,
          30,
          26,
          29,
          32,
          23,
          25,
          28,
          25,
          29,
          65,
          41,
          35,
          30,
          26,
          30,
          27,
          30,
          26,
          29
         ],
         "yaxis": "y"
        }
       ],
       "layout": {
        "legend": {
         "title": {
          "text": "variable"
         },
         "tracegroupgap": 0
        },
        "template": {
         "data": {
          "bar": [
           {
            "error_x": {
             "color": "#2a3f5f"
            },
            "error_y": {
             "color": "#2a3f5f"
            },
            "marker": {
             "line": {
              "color": "#E5ECF6",
              "width": 0.5
             },
             "pattern": {
              "fillmode": "overlay",
              "size": 10,
              "solidity": 0.2
             }
            },
            "type": "bar"
           }
          ],
          "barpolar": [
           {
            "marker": {
             "line": {
              "color": "#E5ECF6",
              "width": 0.5
             },
             "pattern": {
              "fillmode": "overlay",
              "size": 10,
              "solidity": 0.2
             }
            },
            "type": "barpolar"
           }
          ],
          "carpet": [
           {
            "aaxis": {
             "endlinecolor": "#2a3f5f",
             "gridcolor": "white",
             "linecolor": "white",
             "minorgridcolor": "white",
             "startlinecolor": "#2a3f5f"
            },
            "baxis": {
             "endlinecolor": "#2a3f5f",
             "gridcolor": "white",
             "linecolor": "white",
             "minorgridcolor": "white",
             "startlinecolor": "#2a3f5f"
            },
            "type": "carpet"
           }
          ],
          "choropleth": [
           {
            "colorbar": {
             "outlinewidth": 0,
             "ticks": ""
            },
            "type": "choropleth"
           }
          ],
          "contour": [
           {
            "colorbar": {
             "outlinewidth": 0,
             "ticks": ""
            },
            "colorscale": [
             [
              0,
              "#0d0887"
             ],
             [
              0.1111111111111111,
              "#46039f"
             ],
             [
              0.2222222222222222,
              "#7201a8"
             ],
             [
              0.3333333333333333,
              "#9c179e"
             ],
             [
              0.4444444444444444,
              "#bd3786"
             ],
             [
              0.5555555555555556,
              "#d8576b"
             ],
             [
              0.6666666666666666,
              "#ed7953"
             ],
             [
              0.7777777777777778,
              "#fb9f3a"
             ],
             [
              0.8888888888888888,
              "#fdca26"
             ],
             [
              1,
              "#f0f921"
             ]
            ],
            "type": "contour"
           }
          ],
          "contourcarpet": [
           {
            "colorbar": {
             "outlinewidth": 0,
             "ticks": ""
            },
            "type": "contourcarpet"
           }
          ],
          "heatmap": [
           {
            "colorbar": {
             "outlinewidth": 0,
             "ticks": ""
            },
            "colorscale": [
             [
              0,
              "#0d0887"
             ],
             [
              0.1111111111111111,
              "#46039f"
             ],
             [
              0.2222222222222222,
              "#7201a8"
             ],
             [
              0.3333333333333333,
              "#9c179e"
             ],
             [
              0.4444444444444444,
              "#bd3786"
             ],
             [
              0.5555555555555556,
              "#d8576b"
             ],
             [
              0.6666666666666666,
              "#ed7953"
             ],
             [
              0.7777777777777778,
              "#fb9f3a"
             ],
             [
              0.8888888888888888,
              "#fdca26"
             ],
             [
              1,
              "#f0f921"
             ]
            ],
            "type": "heatmap"
           }
          ],
          "heatmapgl": [
           {
            "colorbar": {
             "outlinewidth": 0,
             "ticks": ""
            },
            "colorscale": [
             [
              0,
              "#0d0887"
             ],
             [
              0.1111111111111111,
              "#46039f"
             ],
             [
              0.2222222222222222,
              "#7201a8"
             ],
             [
              0.3333333333333333,
              "#9c179e"
             ],
             [
              0.4444444444444444,
              "#bd3786"
             ],
             [
              0.5555555555555556,
              "#d8576b"
             ],
             [
              0.6666666666666666,
              "#ed7953"
             ],
             [
              0.7777777777777778,
              "#fb9f3a"
             ],
             [
              0.8888888888888888,
              "#fdca26"
             ],
             [
              1,
              "#f0f921"
             ]
            ],
            "type": "heatmapgl"
           }
          ],
          "histogram": [
           {
            "marker": {
             "pattern": {
              "fillmode": "overlay",
              "size": 10,
              "solidity": 0.2
             }
            },
            "type": "histogram"
           }
          ],
          "histogram2d": [
           {
            "colorbar": {
             "outlinewidth": 0,
             "ticks": ""
            },
            "colorscale": [
             [
              0,
              "#0d0887"
             ],
             [
              0.1111111111111111,
              "#46039f"
             ],
             [
              0.2222222222222222,
              "#7201a8"
             ],
             [
              0.3333333333333333,
              "#9c179e"
             ],
             [
              0.4444444444444444,
              "#bd3786"
             ],
             [
              0.5555555555555556,
              "#d8576b"
             ],
             [
              0.6666666666666666,
              "#ed7953"
             ],
             [
              0.7777777777777778,
              "#fb9f3a"
             ],
             [
              0.8888888888888888,
              "#fdca26"
             ],
             [
              1,
              "#f0f921"
             ]
            ],
            "type": "histogram2d"
           }
          ],
          "histogram2dcontour": [
           {
            "colorbar": {
             "outlinewidth": 0,
             "ticks": ""
            },
            "colorscale": [
             [
              0,
              "#0d0887"
             ],
             [
              0.1111111111111111,
              "#46039f"
             ],
             [
              0.2222222222222222,
              "#7201a8"
             ],
             [
              0.3333333333333333,
              "#9c179e"
             ],
             [
              0.4444444444444444,
              "#bd3786"
             ],
             [
              0.5555555555555556,
              "#d8576b"
             ],
             [
              0.6666666666666666,
              "#ed7953"
             ],
             [
              0.7777777777777778,
              "#fb9f3a"
             ],
             [
              0.8888888888888888,
              "#fdca26"
             ],
             [
              1,
              "#f0f921"
             ]
            ],
            "type": "histogram2dcontour"
           }
          ],
          "mesh3d": [
           {
            "colorbar": {
             "outlinewidth": 0,
             "ticks": ""
            },
            "type": "mesh3d"
           }
          ],
          "parcoords": [
           {
            "line": {
             "colorbar": {
              "outlinewidth": 0,
              "ticks": ""
             }
            },
            "type": "parcoords"
           }
          ],
          "pie": [
           {
            "automargin": true,
            "type": "pie"
           }
          ],
          "scatter": [
           {
            "fillpattern": {
             "fillmode": "overlay",
             "size": 10,
             "solidity": 0.2
            },
            "type": "scatter"
           }
          ],
          "scatter3d": [
           {
            "line": {
             "colorbar": {
              "outlinewidth": 0,
              "ticks": ""
             }
            },
            "marker": {
             "colorbar": {
              "outlinewidth": 0,
              "ticks": ""
             }
            },
            "type": "scatter3d"
           }
          ],
          "scattercarpet": [
           {
            "marker": {
             "colorbar": {
              "outlinewidth": 0,
              "ticks": ""
             }
            },
            "type": "scattercarpet"
           }
          ],
          "scattergeo": [
           {
            "marker": {
             "colorbar": {
              "outlinewidth": 0,
              "ticks": ""
             }
            },
            "type": "scattergeo"
           }
          ],
          "scattergl": [
           {
            "marker": {
             "colorbar": {
              "outlinewidth": 0,
              "ticks": ""
             }
            },
            "type": "scattergl"
           }
          ],
          "scattermapbox": [
           {
            "marker": {
             "colorbar": {
              "outlinewidth": 0,
              "ticks": ""
             }
            },
            "type": "scattermapbox"
           }
          ],
          "scatterpolar": [
           {
            "marker": {
             "colorbar": {
              "outlinewidth": 0,
              "ticks": ""
             }
            },
            "type": "scatterpolar"
           }
          ],
          "scatterpolargl": [
           {
            "marker": {
             "colorbar": {
              "outlinewidth": 0,
              "ticks": ""
             }
            },
            "type": "scatterpolargl"
           }
          ],
          "scatterternary": [
           {
            "marker": {
             "colorbar": {
              "outlinewidth": 0,
              "ticks": ""
             }
            },
            "type": "scatterternary"
           }
          ],
          "surface": [
           {
            "colorbar": {
             "outlinewidth": 0,
             "ticks": ""
            },
            "colorscale": [
             [
              0,
              "#0d0887"
             ],
             [
              0.1111111111111111,
              "#46039f"
             ],
             [
              0.2222222222222222,
              "#7201a8"
             ],
             [
              0.3333333333333333,
              "#9c179e"
             ],
             [
              0.4444444444444444,
              "#bd3786"
             ],
             [
              0.5555555555555556,
              "#d8576b"
             ],
             [
              0.6666666666666666,
              "#ed7953"
             ],
             [
              0.7777777777777778,
              "#fb9f3a"
             ],
             [
              0.8888888888888888,
              "#fdca26"
             ],
             [
              1,
              "#f0f921"
             ]
            ],
            "type": "surface"
           }
          ],
          "table": [
           {
            "cells": {
             "fill": {
              "color": "#EBF0F8"
             },
             "line": {
              "color": "white"
             }
            },
            "header": {
             "fill": {
              "color": "#C8D4E3"
             },
             "line": {
              "color": "white"
             }
            },
            "type": "table"
           }
          ]
         },
         "layout": {
          "annotationdefaults": {
           "arrowcolor": "#2a3f5f",
           "arrowhead": 0,
           "arrowwidth": 1
          },
          "autotypenumbers": "strict",
          "coloraxis": {
           "colorbar": {
            "outlinewidth": 0,
            "ticks": ""
           }
          },
          "colorscale": {
           "diverging": [
            [
             0,
             "#8e0152"
            ],
            [
             0.1,
             "#c51b7d"
            ],
            [
             0.2,
             "#de77ae"
            ],
            [
             0.3,
             "#f1b6da"
            ],
            [
             0.4,
             "#fde0ef"
            ],
            [
             0.5,
             "#f7f7f7"
            ],
            [
             0.6,
             "#e6f5d0"
            ],
            [
             0.7,
             "#b8e186"
            ],
            [
             0.8,
             "#7fbc41"
            ],
            [
             0.9,
             "#4d9221"
            ],
            [
             1,
             "#276419"
            ]
           ],
           "sequential": [
            [
             0,
             "#0d0887"
            ],
            [
             0.1111111111111111,
             "#46039f"
            ],
            [
             0.2222222222222222,
             "#7201a8"
            ],
            [
             0.3333333333333333,
             "#9c179e"
            ],
            [
             0.4444444444444444,
             "#bd3786"
            ],
            [
             0.5555555555555556,
             "#d8576b"
            ],
            [
             0.6666666666666666,
             "#ed7953"
            ],
            [
             0.7777777777777778,
             "#fb9f3a"
            ],
            [
             0.8888888888888888,
             "#fdca26"
            ],
            [
             1,
             "#f0f921"
            ]
           ],
           "sequentialminus": [
            [
             0,
             "#0d0887"
            ],
            [
             0.1111111111111111,
             "#46039f"
            ],
            [
             0.2222222222222222,
             "#7201a8"
            ],
            [
             0.3333333333333333,
             "#9c179e"
            ],
            [
             0.4444444444444444,
             "#bd3786"
            ],
            [
             0.5555555555555556,
             "#d8576b"
            ],
            [
             0.6666666666666666,
             "#ed7953"
            ],
            [
             0.7777777777777778,
             "#fb9f3a"
            ],
            [
             0.8888888888888888,
             "#fdca26"
            ],
            [
             1,
             "#f0f921"
            ]
           ]
          },
          "colorway": [
           "#636efa",
           "#EF553B",
           "#00cc96",
           "#ab63fa",
           "#FFA15A",
           "#19d3f3",
           "#FF6692",
           "#B6E880",
           "#FF97FF",
           "#FECB52"
          ],
          "font": {
           "color": "#2a3f5f"
          },
          "geo": {
           "bgcolor": "white",
           "lakecolor": "white",
           "landcolor": "#E5ECF6",
           "showlakes": true,
           "showland": true,
           "subunitcolor": "white"
          },
          "hoverlabel": {
           "align": "left"
          },
          "hovermode": "closest",
          "mapbox": {
           "style": "light"
          },
          "paper_bgcolor": "white",
          "plot_bgcolor": "#E5ECF6",
          "polar": {
           "angularaxis": {
            "gridcolor": "white",
            "linecolor": "white",
            "ticks": ""
           },
           "bgcolor": "#E5ECF6",
           "radialaxis": {
            "gridcolor": "white",
            "linecolor": "white",
            "ticks": ""
           }
          },
          "scene": {
           "xaxis": {
            "backgroundcolor": "#E5ECF6",
            "gridcolor": "white",
            "gridwidth": 2,
            "linecolor": "white",
            "showbackground": true,
            "ticks": "",
            "zerolinecolor": "white"
           },
           "yaxis": {
            "backgroundcolor": "#E5ECF6",
            "gridcolor": "white",
            "gridwidth": 2,
            "linecolor": "white",
            "showbackground": true,
            "ticks": "",
            "zerolinecolor": "white"
           },
           "zaxis": {
            "backgroundcolor": "#E5ECF6",
            "gridcolor": "white",
            "gridwidth": 2,
            "linecolor": "white",
            "showbackground": true,
            "ticks": "",
            "zerolinecolor": "white"
           }
          },
          "shapedefaults": {
           "line": {
            "color": "#2a3f5f"
           }
          },
          "ternary": {
           "aaxis": {
            "gridcolor": "white",
            "linecolor": "white",
            "ticks": ""
           },
           "baxis": {
            "gridcolor": "white",
            "linecolor": "white",
            "ticks": ""
           },
           "bgcolor": "#E5ECF6",
           "caxis": {
            "gridcolor": "white",
            "linecolor": "white",
            "ticks": ""
           }
          },
          "title": {
           "x": 0.05
          },
          "xaxis": {
           "automargin": true,
           "gridcolor": "white",
           "linecolor": "white",
           "ticks": "",
           "title": {
            "standoff": 15
           },
           "zerolinecolor": "white",
           "zerolinewidth": 2
          },
          "yaxis": {
           "automargin": true,
           "gridcolor": "white",
           "linecolor": "white",
           "ticks": "",
           "title": {
            "standoff": 15
           },
           "zerolinecolor": "white",
           "zerolinewidth": 2
          }
         }
        },
        "title": {
         "text": "Keyword Web Search Interest Over Time"
        },
        "xaxis": {
         "anchor": "y",
         "domain": [
          0,
          1
         ],
         "title": {
          "text": "date"
         }
        },
        "yaxis": {
         "anchor": "x",
         "domain": [
          0,
          1
         ],
         "title": {
          "text": "value"
         }
        }
       }
      }
     },
     "metadata": {},
     "output_type": "display_data"
    }
   ],
   "source": [
    "pytrend = TrendReq()\n",
    "\n",
    "#provide your search terms\n",
    "kw_list=['AMZN']\n",
    "\n",
    "#search interest per region\n",
    "#run model for keywords (can also be competitors)\n",
    "pytrend.build_payload(kw_list, cat=0, timeframe='today 5-y') \n",
    "\n",
    "data = pytrend.interest_over_time() \n",
    "data = data.drop(columns=['isPartial'])\n",
    "data = data.reset_index() \n",
    "\n",
    "fig = px.line(data, x=\"date\", y=['AMZN'], title='Keyword Web Search Interest Over Time')\n",
    "fig.show()"
   ]
  },
  {
   "cell_type": "code",
   "execution_count": 24,
   "id": "10cbe99d",
   "metadata": {},
   "outputs": [
    {
     "data": {
      "text/html": [
       "<div>\n",
       "<style scoped>\n",
       "    .dataframe tbody tr th:only-of-type {\n",
       "        vertical-align: middle;\n",
       "    }\n",
       "\n",
       "    .dataframe tbody tr th {\n",
       "        vertical-align: top;\n",
       "    }\n",
       "\n",
       "    .dataframe thead th {\n",
       "        text-align: right;\n",
       "    }\n",
       "</style>\n",
       "<table border=\"1\" class=\"dataframe\">\n",
       "  <thead>\n",
       "    <tr style=\"text-align: right;\">\n",
       "      <th></th>\n",
       "      <th>date</th>\n",
       "      <th>AMZN</th>\n",
       "    </tr>\n",
       "  </thead>\n",
       "  <tbody>\n",
       "    <tr>\n",
       "      <th>0</th>\n",
       "      <td>2019-03-31</td>\n",
       "      <td>70</td>\n",
       "    </tr>\n",
       "    <tr>\n",
       "      <th>1</th>\n",
       "      <td>2019-04-07</td>\n",
       "      <td>65</td>\n",
       "    </tr>\n",
       "    <tr>\n",
       "      <th>2</th>\n",
       "      <td>2019-04-14</td>\n",
       "      <td>64</td>\n",
       "    </tr>\n",
       "    <tr>\n",
       "      <th>3</th>\n",
       "      <td>2019-04-21</td>\n",
       "      <td>100</td>\n",
       "    </tr>\n",
       "    <tr>\n",
       "      <th>4</th>\n",
       "      <td>2019-04-28</td>\n",
       "      <td>82</td>\n",
       "    </tr>\n",
       "    <tr>\n",
       "      <th>...</th>\n",
       "      <td>...</td>\n",
       "      <td>...</td>\n",
       "    </tr>\n",
       "    <tr>\n",
       "      <th>257</th>\n",
       "      <td>2024-03-03</td>\n",
       "      <td>30</td>\n",
       "    </tr>\n",
       "    <tr>\n",
       "      <th>258</th>\n",
       "      <td>2024-03-10</td>\n",
       "      <td>27</td>\n",
       "    </tr>\n",
       "    <tr>\n",
       "      <th>259</th>\n",
       "      <td>2024-03-17</td>\n",
       "      <td>30</td>\n",
       "    </tr>\n",
       "    <tr>\n",
       "      <th>260</th>\n",
       "      <td>2024-03-24</td>\n",
       "      <td>26</td>\n",
       "    </tr>\n",
       "    <tr>\n",
       "      <th>261</th>\n",
       "      <td>2024-03-31</td>\n",
       "      <td>29</td>\n",
       "    </tr>\n",
       "  </tbody>\n",
       "</table>\n",
       "<p>262 rows × 2 columns</p>\n",
       "</div>"
      ],
      "text/plain": [
       "          date  AMZN\n",
       "0   2019-03-31    70\n",
       "1   2019-04-07    65\n",
       "2   2019-04-14    64\n",
       "3   2019-04-21   100\n",
       "4   2019-04-28    82\n",
       "..         ...   ...\n",
       "257 2024-03-03    30\n",
       "258 2024-03-10    27\n",
       "259 2024-03-17    30\n",
       "260 2024-03-24    26\n",
       "261 2024-03-31    29\n",
       "\n",
       "[262 rows x 2 columns]"
      ]
     },
     "metadata": {},
     "output_type": "display_data"
    }
   ],
   "source": [
    "display(data)\n",
    "amzn_weekly = data"
   ]
  },
  {
   "cell_type": "code",
   "execution_count": 21,
   "id": "e0650185",
   "metadata": {},
   "outputs": [
    {
     "name": "stdout",
     "output_type": "stream",
     "text": [
      "Error 400 while fetching token, retrying 1/5\n",
      "Error 400 while fetching token, retrying 2/5\n",
      "Error 400 while fetching token, retrying 3/5\n"
     ]
    },
    {
     "ename": "KeyboardInterrupt",
     "evalue": "",
     "output_type": "error",
     "traceback": [
      "\u001b[1;31m---------------------------------------------------------------------------\u001b[0m",
      "\u001b[1;31mKeyboardInterrupt\u001b[0m                         Traceback (most recent call last)",
      "Cell \u001b[1;32mIn[21], line 104\u001b[0m\n\u001b[0;32m    102\u001b[0m \u001b[38;5;66;03m# Example\u001b[39;00m\n\u001b[0;32m    103\u001b[0m keywords \u001b[38;5;241m=\u001b[39m [\u001b[38;5;124m\"\u001b[39m\u001b[38;5;124mAMZN\u001b[39m\u001b[38;5;124m\"\u001b[39m]\n\u001b[1;32m--> 104\u001b[0m trends_data \u001b[38;5;241m=\u001b[39m \u001b[43mfetch_trends_data\u001b[49m\u001b[43m(\u001b[49m\u001b[43mkeywords\u001b[49m\u001b[43m)\u001b[49m\n\u001b[0;32m    105\u001b[0m \u001b[38;5;28mprint\u001b[39m(trends_data)\n",
      "Cell \u001b[1;32mIn[21], line 45\u001b[0m, in \u001b[0;36mfetch_trends_data\u001b[1;34m(keywords, days_ago, geo, hl, max_retries, browser_version, browser_switch_retries)\u001b[0m\n\u001b[0;32m     42\u001b[0m \u001b[38;5;28;01mwith\u001b[39;00m requests\u001b[38;5;241m.\u001b[39mSession() \u001b[38;5;28;01mas\u001b[39;00m s:\n\u001b[0;32m     43\u001b[0m     \u001b[38;5;66;03m# phase 1: token\u001b[39;00m\n\u001b[0;32m     44\u001b[0m     \u001b[38;5;28;01mfor\u001b[39;00m retry \u001b[38;5;129;01min\u001b[39;00m \u001b[38;5;28mrange\u001b[39m(max_retries):\n\u001b[1;32m---> 45\u001b[0m         \u001b[43mtime\u001b[49m\u001b[38;5;241;43m.\u001b[39;49m\u001b[43msleep\u001b[49m\u001b[43m(\u001b[49m\u001b[38;5;241;43m2\u001b[39;49m\u001b[43m)\u001b[49m\n\u001b[0;32m     46\u001b[0m         token_payload \u001b[38;5;241m=\u001b[39m build_payload(keywords)\n\u001b[0;32m     47\u001b[0m         url \u001b[38;5;241m=\u001b[39m \u001b[38;5;124m'\u001b[39m\u001b[38;5;124mhttps://trends.google.com/trends/api/explore\u001b[39m\u001b[38;5;124m'\u001b[39m\n",
      "\u001b[1;31mKeyboardInterrupt\u001b[0m: "
     ]
    }
   ],
   "source": [
    "import json\n",
    "import urllib.parse\n",
    "from datetime import datetime, timedelta\n",
    "from curl_cffi import requests\n",
    "import time\n",
    "\n",
    "def build_payload(keywords, timeframe='now 7-d', geo='US'):\n",
    "    token_payload = {\n",
    "        'hl': 'en-US',\n",
    "        'tz': '0',\n",
    "        'req': {\n",
    "            'comparisonItem': [{'keyword': keyword, 'time': timeframe, 'geo': geo} for keyword in keywords],\n",
    "            'category': 0,\n",
    "            'property': ''\n",
    "        }\n",
    "    }\n",
    "    token_payload['req'] = json.dumps(token_payload['req'])\n",
    "    return token_payload\n",
    "\n",
    "def convert_to_desired_format(raw_data):\n",
    "    trend_data = {}\n",
    "    for entry in raw_data['default']['timelineData']:\n",
    "        timestamp = int(entry['time'])\n",
    "        date_time_str = datetime.utcfromtimestamp(timestamp).strftime('%Y-%m-%d %H:%M:%S')\n",
    "        value = entry['value'][0]\n",
    "        trend_data[date_time_str] = value\n",
    "    return trend_data\n",
    "\n",
    "# Cookies\n",
    "def get_google_cookies(impersonate_version='chrome110'):\n",
    "    with requests.Session() as session:\n",
    "        session.get(\"https://www.google.com\", impersonate=impersonate_version)\n",
    "        return session.cookies\n",
    "\n",
    "def fetch_trends_data(keywords, days_ago=7, geo='US', hl='en-US', max_retries=5, browser_version='chrome110', browser_switch_retries=2):\n",
    "    browser_versions = ['chrome110', 'edge101', 'chrome107', 'chrome104', 'chrome100', 'chrome101', 'chrome99']\n",
    "    current_browser_version_index = browser_versions.index(browser_version)\n",
    "    cookies = get_google_cookies(impersonate_version=browser_versions[current_browser_version_index])\n",
    "\n",
    "    for browser_retry in range(browser_switch_retries + 1):\n",
    "        data_fetched = False  # Reset data_fetched to False at the beginning of each browser_retry\n",
    "        with requests.Session() as s:\n",
    "            # phase 1: token\n",
    "            for retry in range(max_retries):\n",
    "                time.sleep(2)\n",
    "                token_payload = build_payload(keywords)\n",
    "                url = 'https://trends.google.com/trends/api/explore'\n",
    "                params = urllib.parse.urlencode(token_payload)\n",
    "                full_url = f\"{url}?{params}\"\n",
    "                response = s.get(full_url, impersonate=browser_versions[current_browser_version_index], cookies=cookies)\n",
    "                if response.status_code == 200:\n",
    "                    content = response.text[4:]\n",
    "                    try:\n",
    "                        data = json.loads(content)\n",
    "                        widgets = data['widgets']\n",
    "                        tokens = {}\n",
    "                        request = {}\n",
    "                        for widget in widgets:\n",
    "                            if widget['id'] == 'TIMESERIES':\n",
    "                                tokens['timeseries'] = widget['token']\n",
    "                                request['timeseries'] = widget['request']\n",
    "                        break  # Break out of the retry loop as we got the token\n",
    "                    except json.JSONDecodeError:\n",
    "                        print(f\"Failed to decode JSON while fetching token, retrying {retry + 1}/{max_retries}\")\n",
    "                else:\n",
    "                    print(f\"Error {response.status_code} while fetching token, retrying {retry + 1}/{max_retries}\")\n",
    "            else:\n",
    "                print(f\"Exceeded maximum retry attempts ({max_retries}) while fetching token. Exiting...\")\n",
    "                return None\n",
    "\n",
    "            # phase 2: trends data\n",
    "            for retry in range(max_retries):\n",
    "                time.sleep(5)\n",
    "                req_string = json.dumps(request['timeseries'], separators=(',', ':'))\n",
    "                encoded_req = urllib.parse.quote(req_string, safe=':,+')\n",
    "                url = f\"https://trends.google.com/trends/api/widgetdata/multiline?hl={hl}&tz=0&req={encoded_req}&token={tokens['timeseries']}&tz=0\"\n",
    "                response = s.get(url, impersonate=browser_versions[current_browser_version_index], cookies=cookies)\n",
    "                if response.status_code == 200:\n",
    "                    content = response.text[5:]\n",
    "                    try:\n",
    "                        raw_data = json.loads(content)\n",
    "                        # Convert raw data\n",
    "                        trend_data = convert_to_desired_format(raw_data)\n",
    "                        data_fetched = True  # Set data_fetched to True as we have successfully fetched the trend data\n",
    "                        return trend_data\n",
    "                    except json.JSONDecodeError:\n",
    "                        print(f\"Failed to decode JSON while fetching trends data, retrying {retry + 1}/{max_retries}\")\n",
    "                else:\n",
    "                    print(f\"Error {response.status_code} while fetching trends data, retrying {retry + 1}/{max_retries}\")\n",
    "            else:\n",
    "                print(f\"Exceeded maximum retry attempts ({max_retries}) while fetching trends data.\")\n",
    "\n",
    "        # change browser\n",
    "        if not data_fetched and browser_retry < browser_switch_retries:\n",
    "            time.sleep(5)\n",
    "            current_browser_version_index = (current_browser_version_index + 1) % len(browser_versions)\n",
    "            print(f\"Switching browser version to {browser_versions[current_browser_version_index]} and retrying...\")\n",
    "\n",
    "    print(f\"Exceeded maximum browser switch attempts ({browser_switch_retries}). Exiting...\")\n",
    "    return None\n",
    "\n",
    "# Example\n",
    "keywords = [\"AMZN\"]\n",
    "trends_data = fetch_trends_data(keywords)\n",
    "print(trends_data)"
   ]
  },
  {
   "cell_type": "code",
   "execution_count": 6,
   "id": "2dfbfc64",
   "metadata": {},
   "outputs": [],
   "source": [
    "finviz_url = 'https://finviz.com/quote.ashx?t='\n",
    "tickers = ['AMZN', 'GOOG', 'NVDA']\n",
    "\n",
    "news_tables = {}\n",
    "for ticker in tickers:\n",
    "    url = finviz_url + ticker\n",
    "\n",
    "    req = Request(url=url, headers={'user-agent': 'my-app'})\n",
    "    response = urlopen(req)\n",
    "\n",
    "    html = BeautifulSoup(response, features='html.parser')\n",
    "    news_table = html.find(id='news-table')\n",
    "    news_tables[ticker] = news_table\n",
    "\n",
    "parsed_data = []\n",
    "\n",
    "for ticker, news_table in news_tables.items():\n",
    "\n",
    "    for row in news_table.findAll('tr'):\n",
    "   \n",
    "        title = row.a.text\n",
    "        date_data = re.split(r'\\s+', row.td.text.strip())\n",
    " \n",
    "        if len(date_data) == 1:\n",
    "            time = date_data[0]\n",
    "        else:\n",
    "            if date_data[0] == 'Today':\n",
    "                date = datetime.now().strftime('%b-%d-%y')\n",
    "            else:\n",
    "                date = date_data[0]\n",
    "            time = date_data[1]\n",
    "\n",
    "        parsed_data.append([ticker, date, time, title])\n",
    "\n",
    "df = pd.DataFrame(parsed_data, columns=['ticker', 'date', 'time', 'title'])"
   ]
  },
  {
   "cell_type": "code",
   "execution_count": 7,
   "id": "3b8528ba",
   "metadata": {},
   "outputs": [
    {
     "name": "stderr",
     "output_type": "stream",
     "text": [
      "C:\\Users\\razva\\AppData\\Local\\Temp\\ipykernel_6444\\3340248726.py:6: UserWarning:\n",
      "\n",
      "Could not infer format, so each element will be parsed individually, falling back to `dateutil`. To ensure parsing is consistent and as-expected, please specify a format.\n",
      "\n"
     ]
    }
   ],
   "source": [
    "vader = SentimentIntensityAnalyzer()\n",
    "\n",
    "f = lambda title: vader.polarity_scores(title)['compound']\n",
    "df['compound'] = df['title'].apply(f)\n",
    "\n",
    "df['date'] = pd.to_datetime(df.date).dt.date"
   ]
  },
  {
   "cell_type": "code",
   "execution_count": 8,
   "id": "99da8562",
   "metadata": {},
   "outputs": [
    {
     "data": {
      "text/plain": [
       "<Figure size 1000x800 with 0 Axes>"
      ]
     },
     "metadata": {},
     "output_type": "display_data"
    },
    {
     "data": {
      "image/png": "[encoded data removed]",
      "text/plain": [
       "<Figure size 640x480 with 1 Axes>"
      ]
     },
     "metadata": {},
     "output_type": "display_data"
    }
   ],
   "source": [
    "plt.figure(figsize=(10,8))\n",
    "mean_df = df.groupby(['ticker', 'date']).mean(numeric_only=True).unstack()\n",
    "mean_df = mean_df.xs('compound', axis=\"columns\")\n",
    "mean_df.plot(kind='bar')\n",
    "plt.show()"
   ]
  },
  {
   "cell_type": "code",
   "execution_count": 9,
   "id": "37c38ffa",
   "metadata": {},
   "outputs": [
    {
     "data": {
      "text/html": [
       "<div>\n",
       "<style scoped>\n",
       "    .dataframe tbody tr th:only-of-type {\n",
       "        vertical-align: middle;\n",
       "    }\n",
       "\n",
       "    .dataframe tbody tr th {\n",
       "        vertical-align: top;\n",
       "    }\n",
       "\n",
       "    .dataframe thead th {\n",
       "        text-align: right;\n",
       "    }\n",
       "</style>\n",
       "<table border=\"1\" class=\"dataframe\">\n",
       "  <thead>\n",
       "    <tr style=\"text-align: right;\">\n",
       "      <th></th>\n",
       "      <th>Close</th>\n",
       "      <th>Sentiment</th>\n",
       "      <th>Trend</th>\n",
       "    </tr>\n",
       "    <tr>\n",
       "      <th>Date</th>\n",
       "      <th></th>\n",
       "      <th></th>\n",
       "      <th></th>\n",
       "    </tr>\n",
       "  </thead>\n",
       "  <tbody>\n",
       "    <tr>\n",
       "      <th>2020-01-02</th>\n",
       "      <td>94.900497</td>\n",
       "      <td>0.0</td>\n",
       "      <td>0.0</td>\n",
       "    </tr>\n",
       "    <tr>\n",
       "      <th>2020-01-03</th>\n",
       "      <td>93.748497</td>\n",
       "      <td>0.0</td>\n",
       "      <td>0.0</td>\n",
       "    </tr>\n",
       "    <tr>\n",
       "      <th>2020-01-06</th>\n",
       "      <td>95.143997</td>\n",
       "      <td>0.0</td>\n",
       "      <td>0.0</td>\n",
       "    </tr>\n",
       "    <tr>\n",
       "      <th>2020-01-07</th>\n",
       "      <td>95.343002</td>\n",
       "      <td>0.0</td>\n",
       "      <td>0.0</td>\n",
       "    </tr>\n",
       "    <tr>\n",
       "      <th>2020-01-08</th>\n",
       "      <td>94.598503</td>\n",
       "      <td>0.0</td>\n",
       "      <td>0.0</td>\n",
       "    </tr>\n",
       "    <tr>\n",
       "      <th>...</th>\n",
       "      <td>...</td>\n",
       "      <td>...</td>\n",
       "      <td>...</td>\n",
       "    </tr>\n",
       "    <tr>\n",
       "      <th>2024-03-26</th>\n",
       "      <td>178.300003</td>\n",
       "      <td>0.0</td>\n",
       "      <td>77.0</td>\n",
       "    </tr>\n",
       "    <tr>\n",
       "      <th>2024-03-27</th>\n",
       "      <td>179.830002</td>\n",
       "      <td>0.0</td>\n",
       "      <td>76.0</td>\n",
       "    </tr>\n",
       "    <tr>\n",
       "      <th>2024-03-28</th>\n",
       "      <td>180.380005</td>\n",
       "      <td>0.0</td>\n",
       "      <td>90.0</td>\n",
       "    </tr>\n",
       "    <tr>\n",
       "      <th>2024-04-01</th>\n",
       "      <td>180.970001</td>\n",
       "      <td>0.0</td>\n",
       "      <td>0.0</td>\n",
       "    </tr>\n",
       "    <tr>\n",
       "      <th>2024-04-02</th>\n",
       "      <td>180.690002</td>\n",
       "      <td>0.0</td>\n",
       "      <td>0.0</td>\n",
       "    </tr>\n",
       "  </tbody>\n",
       "</table>\n",
       "<p>1069 rows × 3 columns</p>\n",
       "</div>"
      ],
      "text/plain": [
       "                 Close  Sentiment  Trend\n",
       "Date                                    \n",
       "2020-01-02   94.900497        0.0    0.0\n",
       "2020-01-03   93.748497        0.0    0.0\n",
       "2020-01-06   95.143997        0.0    0.0\n",
       "2020-01-07   95.343002        0.0    0.0\n",
       "2020-01-08   94.598503        0.0    0.0\n",
       "...                ...        ...    ...\n",
       "2024-03-26  178.300003        0.0   77.0\n",
       "2024-03-27  179.830002        0.0   76.0\n",
       "2024-03-28  180.380005        0.0   90.0\n",
       "2024-04-01  180.970001        0.0    0.0\n",
       "2024-04-02  180.690002        0.0    0.0\n",
       "\n",
       "[1069 rows x 3 columns]"
      ]
     },
     "metadata": {},
     "output_type": "display_data"
    }
   ],
   "source": [
    "AMZN = yf.Ticker(\"AMZN\")\n",
    "AMZN = AMZN.history(start='2020-01-01',end='2024-04-03')\n",
    "amzn = AMZN[['Close', 'Volume']]\n",
    "amzn.index = amzn.index.tz_localize(None)\n",
    "sentiment_transposed = mean_df.T\n",
    "sentiment_transposed.index = pd.to_datetime(sentiment_transposed.index)\n",
    "\n",
    "# Merge DataFrames\n",
    "merged_df = pd.merge(amzn, sentiment_transposed[['AMZN']], left_index=True, right_index=True, how='left')\n",
    "merged_df = pd.merge(merged_df, amzn_daily[['AMZN_unscaled']], left_index=True, right_index=True, how='left')\n",
    "merged_df = merged_df.rename(columns={'AMZN': 'Sentiment'})\n",
    "merged_df = merged_df.rename(columns={'AMZN_unscaled': 'Trend'})\n",
    "merged_df['Sentiment'] = merged_df['Sentiment'].fillna(0)\n",
    "merged_df['Trend'] = merged_df['Trend'].fillna(0)\n",
    "merged_df=merged_df[['Close','Sentiment','Trend']]\n",
    "display(merged_df)"
   ]
  },
  {
   "cell_type": "code",
   "execution_count": 10,
   "id": "93d6ba09",
   "metadata": {},
   "outputs": [],
   "source": [
    "sc = MinMaxScaler(feature_range=(0,3))\n",
    "split_idx = int(len(merged_df) * 0.8)\n",
    "\n",
    "train_df = merged_df.iloc[:split_idx]\n",
    "test_df = merged_df.iloc[split_idx:]\n",
    "\n",
    "training_set_scaled = sc.fit_transform(train_df)\n",
    "\n",
    "X_train = []\n",
    "y_train = []\n",
    "for i in range(60, len(training_set_scaled)):\n",
    "    X_train.append(training_set_scaled[i-60:i, 0])\n",
    "    y_train.append(training_set_scaled[i, 0])\n",
    "X_train, y_train = np.array(X_train), np.array(y_train)\n",
    "X_train = np.reshape(X_train, (X_train.shape[0], X_train.shape[1], 1))"
   ]
  },
  {
   "cell_type": "code",
   "execution_count": 11,
   "id": "d1c6b45c",
   "metadata": {},
   "outputs": [
    {
     "name": "stderr",
     "output_type": "stream",
     "text": [
      "C:\\Users\\razva\\AppData\\Roaming\\Python\\Python311\\site-packages\\keras\\src\\layers\\rnn\\rnn.py:204: UserWarning:\n",
      "\n",
      "Do not pass an `input_shape`/`input_dim` argument to a layer. When using Sequential models, prefer using an `Input(shape)` object as the first layer in the model instead.\n",
      "\n"
     ]
    },
    {
     "name": "stdout",
     "output_type": "stream",
     "text": [
      "Epoch 1/10\n",
      "\u001b[1m25/25\u001b[0m \u001b[32m━━━━━━━━━━━━━━━━━━━━\u001b[0m\u001b[37m\u001b[0m \u001b[1m65s\u001b[0m 479ms/step - loss: 1.6305\n",
      "Epoch 2/10\n",
      "\u001b[1m25/25\u001b[0m \u001b[32m━━━━━━━━━━━━━━━━━━━━\u001b[0m\u001b[37m\u001b[0m \u001b[1m12s\u001b[0m 484ms/step - loss: 0.1500\n",
      "Epoch 3/10\n",
      "\u001b[1m25/25\u001b[0m \u001b[32m━━━━━━━━━━━━━━━━━━━━\u001b[0m\u001b[37m\u001b[0m \u001b[1m12s\u001b[0m 454ms/step - loss: 0.1073\n",
      "Epoch 4/10\n",
      "\u001b[1m25/25\u001b[0m \u001b[32m━━━━━━━━━━━━━━━━━━━━\u001b[0m\u001b[37m\u001b[0m \u001b[1m12s\u001b[0m 478ms/step - loss: 0.0979\n",
      "Epoch 5/10\n",
      "\u001b[1m25/25\u001b[0m \u001b[32m━━━━━━━━━━━━━━━━━━━━\u001b[0m\u001b[37m\u001b[0m \u001b[1m21s\u001b[0m 477ms/step - loss: 0.0921\n",
      "Epoch 6/10\n",
      "\u001b[1m25/25\u001b[0m \u001b[32m━━━━━━━━━━━━━━━━━━━━\u001b[0m\u001b[37m\u001b[0m \u001b[1m12s\u001b[0m 473ms/step - loss: 0.1007\n",
      "Epoch 7/10\n",
      "\u001b[1m25/25\u001b[0m \u001b[32m━━━━━━━━━━━━━━━━━━━━\u001b[0m\u001b[37m\u001b[0m \u001b[1m13s\u001b[0m 493ms/step - loss: 0.1003\n",
      "Epoch 8/10\n",
      "\u001b[1m25/25\u001b[0m \u001b[32m━━━━━━━━━━━━━━━━━━━━\u001b[0m\u001b[37m\u001b[0m \u001b[1m20s\u001b[0m 483ms/step - loss: 0.0827\n",
      "Epoch 9/10\n",
      "\u001b[1m25/25\u001b[0m \u001b[32m━━━━━━━━━━━━━━━━━━━━\u001b[0m\u001b[37m\u001b[0m \u001b[1m13s\u001b[0m 488ms/step - loss: 0.0715\n",
      "Epoch 10/10\n",
      "\u001b[1m25/25\u001b[0m \u001b[32m━━━━━━━━━━━━━━━━━━━━\u001b[0m\u001b[37m\u001b[0m \u001b[1m22s\u001b[0m 542ms/step - loss: 0.0776\n"
     ]
    },
    {
     "data": {
      "text/plain": [
       "<keras.src.callbacks.history.History at 0x26e1d2b3850>"
      ]
     },
     "execution_count": 11,
     "metadata": {},
     "output_type": "execute_result"
    }
   ],
   "source": [
    "model = Sequential()\n",
    "model.add(LSTM(units=50,return_sequences=True,input_shape=(X_train.shape[1], 1)))\n",
    "model.add(Dropout(0.2))\n",
    "model.add(LSTM(units=50,return_sequences=True))\n",
    "model.add(Dropout(0.2))\n",
    "model.add(LSTM(units=50,return_sequences=True))\n",
    "model.add(Dropout(0.2))\n",
    "model.add(LSTM(units=50))\n",
    "model.add(Dropout(0.2))\n",
    "model.add(Dense(units=1))\n",
    "model.compile(optimizer='adam',loss='mean_squared_error')\n",
    "model.fit(X_train,y_train,epochs=10,batch_size=32)"
   ]
  },
  {
   "cell_type": "code",
   "execution_count": 12,
   "id": "c25b8d10",
   "metadata": {},
   "outputs": [
    {
     "name": "stderr",
     "output_type": "stream",
     "text": [
      "C:\\Users\\razva\\AppData\\Roaming\\Python\\Python311\\site-packages\\sklearn\\base.py:493: UserWarning:\n",
      "\n",
      "X does not have valid feature names, but MinMaxScaler was fitted with feature names\n",
      "\n"
     ]
    },
    {
     "name": "stdout",
     "output_type": "stream",
     "text": [
      "\u001b[1m1/1\u001b[0m \u001b[32m━━━━━━━━━━━━━━━━━━━━\u001b[0m\u001b[37m\u001b[0m \u001b[1m7s\u001b[0m 7s/step\n"
     ]
    }
   ],
   "source": [
    "dataset_total = merged_df\n",
    "inputs = dataset_total[len(dataset_total) - len(test_df) - 60:].values\n",
    "#inputs = inputs.reshape(-1,1)\n",
    "inputs = sc.transform(inputs)\n",
    "X_test = []\n",
    "for i in range(60, 76):\n",
    "    X_test.append(inputs[i-60:i, 0])\n",
    "X_test = np.array(X_test)\n",
    "X_test = np.reshape(X_test, (X_test.shape[0], X_test.shape[1], 1))\n",
    "\n",
    "predicted_stock_price = model.predict(X_test)\n",
    "#predicted_stock_price = sc.inverse_transform(predicted_stock_price)\n",
    "\n",
    "# # Create a temporary array with the correct shape expected by the scaler\n",
    "# temp_array = np.zeros((predicted_stock_price.shape[0], 2))  # Shape (16, 2) to match the scaler\n",
    "\n",
    "# # Place the predicted stock prices into the first column of the temporary array\n",
    "# temp_array[:, 0] = predicted_stock_price.ravel()  # Assuming predictions correspond to the 'Close' prices\n",
    "\n",
    "# # Perform the inverse transformation on the adjusted array\n",
    "# inverse_transformed_array = sc.inverse_transform(temp_array)\n",
    "\n",
    "# # Extract the inverse transformed 'Close' prices, now correctly scaled\n",
    "# corrected_predicted_stock_price = inverse_transformed_array[:, 0]\n",
    "\n",
    "# # corrected_predicted_stock_price now contains the 'Close' prices after inverse transformation\n",
    "# predicted_stock_price = corrected_predicted_stock_price\n"
   ]
  },
  {
   "cell_type": "code",
   "execution_count": 22,
   "id": "bec1d40f",
   "metadata": {},
   "outputs": [
    {
     "data": {
      "text/html": [
       "<div>\n",
       "<style scoped>\n",
       "    .dataframe tbody tr th:only-of-type {\n",
       "        vertical-align: middle;\n",
       "    }\n",
       "\n",
       "    .dataframe tbody tr th {\n",
       "        vertical-align: top;\n",
       "    }\n",
       "\n",
       "    .dataframe thead th {\n",
       "        text-align: right;\n",
       "    }\n",
       "</style>\n",
       "<table border=\"1\" class=\"dataframe\">\n",
       "  <thead>\n",
       "    <tr style=\"text-align: right;\">\n",
       "      <th></th>\n",
       "      <th>Close</th>\n",
       "      <th>Sentiment</th>\n",
       "      <th>Trend</th>\n",
       "    </tr>\n",
       "    <tr>\n",
       "      <th>Date</th>\n",
       "      <th></th>\n",
       "      <th></th>\n",
       "      <th></th>\n",
       "    </tr>\n",
       "  </thead>\n",
       "  <tbody>\n",
       "    <tr>\n",
       "      <th>2023-05-25</th>\n",
       "      <td>115.000000</td>\n",
       "      <td>0.0</td>\n",
       "      <td>0.0</td>\n",
       "    </tr>\n",
       "    <tr>\n",
       "      <th>2023-05-26</th>\n",
       "      <td>120.110001</td>\n",
       "      <td>0.0</td>\n",
       "      <td>0.0</td>\n",
       "    </tr>\n",
       "    <tr>\n",
       "      <th>2023-05-30</th>\n",
       "      <td>121.660004</td>\n",
       "      <td>0.0</td>\n",
       "      <td>0.0</td>\n",
       "    </tr>\n",
       "    <tr>\n",
       "      <th>2023-05-31</th>\n",
       "      <td>120.580002</td>\n",
       "      <td>0.0</td>\n",
       "      <td>0.0</td>\n",
       "    </tr>\n",
       "    <tr>\n",
       "      <th>2023-06-01</th>\n",
       "      <td>122.769997</td>\n",
       "      <td>0.0</td>\n",
       "      <td>0.0</td>\n",
       "    </tr>\n",
       "    <tr>\n",
       "      <th>...</th>\n",
       "      <td>...</td>\n",
       "      <td>...</td>\n",
       "      <td>...</td>\n",
       "    </tr>\n",
       "    <tr>\n",
       "      <th>2024-03-26</th>\n",
       "      <td>178.300003</td>\n",
       "      <td>0.0</td>\n",
       "      <td>77.0</td>\n",
       "    </tr>\n",
       "    <tr>\n",
       "      <th>2024-03-27</th>\n",
       "      <td>179.830002</td>\n",
       "      <td>0.0</td>\n",
       "      <td>76.0</td>\n",
       "    </tr>\n",
       "    <tr>\n",
       "      <th>2024-03-28</th>\n",
       "      <td>180.380005</td>\n",
       "      <td>0.0</td>\n",
       "      <td>90.0</td>\n",
       "    </tr>\n",
       "    <tr>\n",
       "      <th>2024-04-01</th>\n",
       "      <td>180.970001</td>\n",
       "      <td>0.0</td>\n",
       "      <td>0.0</td>\n",
       "    </tr>\n",
       "    <tr>\n",
       "      <th>2024-04-02</th>\n",
       "      <td>180.690002</td>\n",
       "      <td>0.0</td>\n",
       "      <td>0.0</td>\n",
       "    </tr>\n",
       "  </tbody>\n",
       "</table>\n",
       "<p>214 rows × 3 columns</p>\n",
       "</div>"
      ],
      "text/plain": [
       "                 Close  Sentiment  Trend\n",
       "Date                                    \n",
       "2023-05-25  115.000000        0.0    0.0\n",
       "2023-05-26  120.110001        0.0    0.0\n",
       "2023-05-30  121.660004        0.0    0.0\n",
       "2023-05-31  120.580002        0.0    0.0\n",
       "2023-06-01  122.769997        0.0    0.0\n",
       "...                ...        ...    ...\n",
       "2024-03-26  178.300003        0.0   77.0\n",
       "2024-03-27  179.830002        0.0   76.0\n",
       "2024-03-28  180.380005        0.0   90.0\n",
       "2024-04-01  180.970001        0.0    0.0\n",
       "2024-04-02  180.690002        0.0    0.0\n",
       "\n",
       "[214 rows x 3 columns]"
      ]
     },
     "metadata": {},
     "output_type": "display_data"
    }
   ],
   "source": [
    "display(test_df)"
   ]
  },
  {
   "cell_type": "code",
   "execution_count": 13,
   "id": "ac438259",
   "metadata": {},
   "outputs": [],
   "source": [
    "real_stock_price = sc.transform(test_df)"
   ]
  },
  {
   "cell_type": "code",
   "execution_count": null,
   "id": "e215e60b",
   "metadata": {},
   "outputs": [],
   "source": [
    "real_stock_price = np.delete(real_stock_price, 1, 1)"
   ]
  },
  {
   "cell_type": "code",
   "execution_count": 28,
   "id": "75fb0dbe",
   "metadata": {},
   "outputs": [
    {
     "data": {
      "text/plain": [
       "array([[0.95025804],\n",
       "       [1.09660581],\n",
       "       [1.1409971 ],\n",
       "       [1.1100664 ],\n",
       "       [1.17278672],\n",
       "       [1.21517325],\n",
       "       [1.2452448 ],\n",
       "       [1.28276245],\n",
       "       [1.12868211],\n",
       "       [1.21517325],\n",
       "       [1.19168889],\n",
       "       [1.28161684],\n",
       "       [1.28419451],\n",
       "       [1.27732088],\n",
       "       [1.29708219],\n",
       "       [1.25068615],\n",
       "       [1.25899163],\n",
       "       [1.23178421],\n",
       "       [1.38414603],\n",
       "       [1.36066188],\n",
       "       [1.30338291],\n",
       "       [1.35636569],\n",
       "       [1.35235618],\n",
       "       [1.31970741],\n",
       "       [1.39016051],\n",
       "       [1.386151  ],\n",
       "       [1.39073342],\n",
       "       [1.33288154],\n",
       "       [1.37354956],\n",
       "       [1.29765488],\n",
       "       [1.34491007],\n",
       "       [1.40276195],\n",
       "       [1.50300014],\n",
       "       [1.51388285],\n",
       "       [1.48180677],\n",
       "       [1.46090007],\n",
       "       [1.53335792],\n",
       "       [1.37870489],\n",
       "       [1.37985028],\n",
       "       [1.34548299],\n",
       "       [1.35493407],\n",
       "       [1.32686706],\n",
       "       [1.32973118],\n",
       "       [1.44314373],\n",
       "       [1.48524336],\n",
       "       [1.42825107],\n",
       "       [1.3285858 ],\n",
       "       [1.34863335],\n",
       "       [1.65393034],\n",
       "       [1.72982479],\n",
       "       [1.6645268 ],\n",
       "       [1.60467039],\n",
       "       [1.62500418],\n",
       "       [1.62070843],\n",
       "       [1.68256982],\n",
       "       [1.59951506],\n",
       "       [1.52505266],\n",
       "       [1.4938353 ],\n",
       "       [1.47206945],\n",
       "       [1.51388285],\n",
       "       [1.50156808],\n",
       "       [1.53794034],\n",
       "       [1.43254682],\n",
       "       [1.47321483],\n",
       "       [1.46977824],\n",
       "       [1.52047024],\n",
       "       [1.52505266],\n",
       "       [1.60925238],\n",
       "       [1.61240274],\n",
       "       [1.58805944],\n",
       "       [1.53335792],\n",
       "       [1.60467039],\n",
       "       [1.6155531 ],\n",
       "       [1.75502767],\n",
       "       [1.70147154],\n",
       "       [1.80514677],\n",
       "       [1.8014235 ],\n",
       "       [1.67741448],\n",
       "       [1.66567219],\n",
       "       [1.59836967],\n",
       "       [1.53135295],\n",
       "       [1.36066188],\n",
       "       [1.35464739],\n",
       "       [1.41622254],\n",
       "       [1.26471965],\n",
       "       [1.26471965],\n",
       "       [1.26471965],\n",
       "       [1.29736865],\n",
       "       [1.36438515],\n",
       "       [1.22863385],\n",
       "       [1.29393183],\n",
       "       [1.26414674],\n",
       "       [1.32142571],\n",
       "       [1.33001742],\n",
       "       [1.36495762],\n",
       "       [1.43226058],\n",
       "       [1.44658032],\n",
       "       [1.37383579],\n",
       "       [1.45288105],\n",
       "       [1.42195035],\n",
       "       [1.32629459],\n",
       "       [1.33402693],\n",
       "       [1.24152152],\n",
       "       [1.28133039],\n",
       "       [1.33860935],\n",
       "       [1.13326432],\n",
       "       [1.08114047],\n",
       "       [1.31512499],\n",
       "       [1.45746347],\n",
       "       [1.46834617],\n",
       "       [1.58032666],\n",
       "       [1.61097111],\n",
       "       [1.62615   ],\n",
       "       [1.658799  ],\n",
       "       [1.74385829],\n",
       "       [1.72581528],\n",
       "       [1.68342897],\n",
       "       [1.76820159],\n",
       "       [1.74042126],\n",
       "       [1.83235419],\n",
       "       [1.75789136],\n",
       "       [1.74729489],\n",
       "       [1.81459741],\n",
       "       [1.84180527],\n",
       "       [1.77793891],\n",
       "       [1.85841622],\n",
       "       [1.85927537],\n",
       "       [1.88762818],\n",
       "       [1.86758063],\n",
       "       [1.84724684],\n",
       "       [1.84065945],\n",
       "       [1.86758063],\n",
       "       [1.80486009],\n",
       "       [1.86328488],\n",
       "       [1.79569569],\n",
       "       [1.86328488],\n",
       "       [1.87875001],\n",
       "       [1.83493164],\n",
       "       [1.88046831],\n",
       "       [1.91941802],\n",
       "       [1.87875001],\n",
       "       [1.95178078],\n",
       "       [2.06920283],\n",
       "       [2.06118338],\n",
       "       [2.01335549],\n",
       "       [2.06261544],\n",
       "       [2.05058691],\n",
       "       [2.05030067],\n",
       "       [2.0482957 ],\n",
       "       [2.04944152],\n",
       "       [2.0082006 ],\n",
       "       [1.95063496],\n",
       "       [1.90882156],\n",
       "       [1.79712775],\n",
       "       [1.81631615],\n",
       "       [1.92686457],\n",
       "       [1.99187588],\n",
       "       [2.05946508],\n",
       "       [2.10099224],\n",
       "       [2.0849542 ],\n",
       "       [2.0431408 ],\n",
       "       [2.00161364],\n",
       "       [2.05287812],\n",
       "       [2.10557466],\n",
       "       [2.08953662],\n",
       "       [2.12504974],\n",
       "       [2.14939303],\n",
       "       [2.17459592],\n",
       "       [2.21383187],\n",
       "       [2.27512035],\n",
       "       [2.21039527],\n",
       "       [2.10156515],\n",
       "       [2.21841429],\n",
       "       [2.57726697],\n",
       "       [2.53430775],\n",
       "       [2.50108585],\n",
       "       [2.54060847],\n",
       "       [2.52084716],\n",
       "       [2.65287519],\n",
       "       [2.59244586],\n",
       "       [2.48647987],\n",
       "       [2.55349615],\n",
       "       [2.51970177],\n",
       "       [2.51139608],\n",
       "       [2.44180234],\n",
       "       [2.4850478 ],\n",
       "       [2.65659846],\n",
       "       [2.66834076],\n",
       "       [2.66089421],\n",
       "       [2.62681316],\n",
       "       [2.61593045],\n",
       "       [2.71903232],\n",
       "       [2.76084616],\n",
       "       [2.74251691],\n",
       "       [2.64342411],\n",
       "       [2.62595401],\n",
       "       [2.72075106],\n",
       "       [2.67865099],\n",
       "       [2.58156316],\n",
       "       [2.67979637],\n",
       "       [2.71330452],\n",
       "       [2.77602505],\n",
       "       [2.65201604],\n",
       "       [2.65373434],\n",
       "       [2.69440235],\n",
       "       [2.75884119],\n",
       "       [2.75884119],\n",
       "       [2.77946165],\n",
       "       [2.80351915],\n",
       "       [2.76313737],\n",
       "       [2.80695575],\n",
       "       [2.82270755],\n",
       "       [2.83960474],\n",
       "       [2.83158572]])"
      ]
     },
     "metadata": {},
     "output_type": "display_data"
    }
   ],
   "source": [
    "display(real_stock_price)"
   ]
  },
  {
   "cell_type": "code",
   "execution_count": 29,
   "id": "dd878d39",
   "metadata": {},
   "outputs": [
    {
     "data": {
      "image/png": "[encoded data removed]",
      "text/plain": [
       "<Figure size 640x480 with 1 Axes>"
      ]
     },
     "metadata": {},
     "output_type": "display_data"
    }
   ],
   "source": [
    "plt.plot(real_stock_price, color = 'red', label = 'Real Stock Price')\n",
    "plt.plot(predicted_stock_price, color = 'blue', label = 'Predicted Stock Price')\n",
    "plt.title('Stock Price Prediction')\n",
    "plt.xlabel('Time')\n",
    "plt.ylabel('Stock Price')\n",
    "plt.legend()\n",
    "plt.show()"
   ]
  },
  {
   "cell_type": "code",
   "execution_count": null,
   "id": "636dde60",
   "metadata": {},
   "outputs": [],
   "source": []
  }
 ],
 "metadata": {
  "kernelspec": {
   "display_name": "Python 3 (ipykernel)",
   "language": "python",
   "name": "python3"
  },
  "language_info": {
   "codemirror_mode": {
    "name": "ipython",
    "version": 3
   },
   "file_extension": ".py",
   "mimetype": "text/x-python",
   "name": "python",
   "nbconvert_exporter": "python",
   "pygments_lexer": "ipython3",
   "version": "3.11.2"
  }
 },
 "nbformat": 4,
 "nbformat_minor": 5
}
