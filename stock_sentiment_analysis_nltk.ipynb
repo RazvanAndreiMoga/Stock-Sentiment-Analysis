{
 "cells": [
  {
   "cell_type": "code",
   "execution_count": 5,
   "id": "aa6687ea",
   "metadata": {},
   "outputs": [],
   "source": [
    "import yfinance as yf\n",
    "import finnhub\n",
    "import GetOldTweets3 as got\n",
    "import requests\n",
    "import pytrends\n",
    "from pytrends.request import TrendReq\n",
    "from ta import add_all_ta_features\n",
    "import praw\n",
    "import pandas as pd\n",
    "import os\n",
    "from urllib.request import urlopen, Request\n",
    "from bs4 import BeautifulSoup\n",
    "from nltk.sentiment.vader import SentimentIntensityAnalyzer\n",
    "import pandas as pd\n",
    "import matplotlib.pyplot as plt\n",
    "import re\n",
    "from datetime import datetime\n",
    "import keras\n",
    "from io import StringIO\n",
    "from sklearn.preprocessing import MinMaxScaler\n",
    "from keras.models import Sequential\n",
    "from keras.layers import LSTM\n",
    "from keras.layers import Dropout\n",
    "from keras.layers import Dense\n",
    "import numpy as np\n",
    "import plotly.express as px\n",
    "import alpha_vantage"
   ]
  },
  {
   "cell_type": "code",
   "execution_count": 62,
   "id": "ed78ab69",
   "metadata": {},
   "outputs": [
    {
     "name": "stdout",
     "output_type": "stream",
     "text": [
      "NVDA:2024-01-01 2024-01-31\n",
      "NVDA:2024-02-01 2024-02-29\n",
      "NVDA:2024-03-01 2024-03-31\n"
     ]
    },
    {
     "data": {
      "text/html": [
       "<div>\n",
       "<style scoped>\n",
       "    .dataframe tbody tr th:only-of-type {\n",
       "        vertical-align: middle;\n",
       "    }\n",
       "\n",
       "    .dataframe tbody tr th {\n",
       "        vertical-align: top;\n",
       "    }\n",
       "\n",
       "    .dataframe thead th {\n",
       "        text-align: right;\n",
       "    }\n",
       "</style>\n",
       "<table border=\"1\" class=\"dataframe\">\n",
       "  <thead>\n",
       "    <tr style=\"text-align: right;\">\n",
       "      <th></th>\n",
       "      <th>NVDA_unscaled</th>\n",
       "      <th>NVDA_monthly</th>\n",
       "      <th>isPartial</th>\n",
       "      <th>scale</th>\n",
       "      <th>NVDA</th>\n",
       "    </tr>\n",
       "    <tr>\n",
       "      <th>date</th>\n",
       "      <th></th>\n",
       "      <th></th>\n",
       "      <th></th>\n",
       "      <th></th>\n",
       "      <th></th>\n",
       "    </tr>\n",
       "  </thead>\n",
       "  <tbody>\n",
       "    <tr>\n",
       "      <th>2024-01-01</th>\n",
       "      <td>11</td>\n",
       "      <td>2</td>\n",
       "      <td>False</td>\n",
       "      <td>0.02</td>\n",
       "      <td>0.22</td>\n",
       "    </tr>\n",
       "    <tr>\n",
       "      <th>2024-01-02</th>\n",
       "      <td>53</td>\n",
       "      <td>11</td>\n",
       "      <td>False</td>\n",
       "      <td>0.11</td>\n",
       "      <td>5.83</td>\n",
       "    </tr>\n",
       "    <tr>\n",
       "      <th>2024-01-03</th>\n",
       "      <td>51</td>\n",
       "      <td>10</td>\n",
       "      <td>False</td>\n",
       "      <td>0.10</td>\n",
       "      <td>5.10</td>\n",
       "    </tr>\n",
       "    <tr>\n",
       "      <th>2024-01-04</th>\n",
       "      <td>46</td>\n",
       "      <td>9</td>\n",
       "      <td>False</td>\n",
       "      <td>0.09</td>\n",
       "      <td>4.14</td>\n",
       "    </tr>\n",
       "    <tr>\n",
       "      <th>2024-01-05</th>\n",
       "      <td>49</td>\n",
       "      <td>10</td>\n",
       "      <td>False</td>\n",
       "      <td>0.10</td>\n",
       "      <td>4.90</td>\n",
       "    </tr>\n",
       "    <tr>\n",
       "      <th>...</th>\n",
       "      <td>...</td>\n",
       "      <td>...</td>\n",
       "      <td>...</td>\n",
       "      <td>...</td>\n",
       "      <td>...</td>\n",
       "    </tr>\n",
       "    <tr>\n",
       "      <th>2024-03-27</th>\n",
       "      <td>49</td>\n",
       "      <td>26</td>\n",
       "      <td>False</td>\n",
       "      <td>0.26</td>\n",
       "      <td>12.74</td>\n",
       "    </tr>\n",
       "    <tr>\n",
       "      <th>2024-03-28</th>\n",
       "      <td>51</td>\n",
       "      <td>27</td>\n",
       "      <td>False</td>\n",
       "      <td>0.27</td>\n",
       "      <td>13.77</td>\n",
       "    </tr>\n",
       "    <tr>\n",
       "      <th>2024-03-29</th>\n",
       "      <td>19</td>\n",
       "      <td>10</td>\n",
       "      <td>False</td>\n",
       "      <td>0.10</td>\n",
       "      <td>1.90</td>\n",
       "    </tr>\n",
       "    <tr>\n",
       "      <th>2024-03-30</th>\n",
       "      <td>9</td>\n",
       "      <td>5</td>\n",
       "      <td>False</td>\n",
       "      <td>0.05</td>\n",
       "      <td>0.45</td>\n",
       "    </tr>\n",
       "    <tr>\n",
       "      <th>2024-03-31</th>\n",
       "      <td>7</td>\n",
       "      <td>4</td>\n",
       "      <td>False</td>\n",
       "      <td>0.04</td>\n",
       "      <td>0.28</td>\n",
       "    </tr>\n",
       "  </tbody>\n",
       "</table>\n",
       "<p>91 rows × 5 columns</p>\n",
       "</div>"
      ],
      "text/plain": [
       "            NVDA_unscaled  NVDA_monthly  isPartial  scale   NVDA\n",
       "date                                                            \n",
       "2024-01-01             11             2      False   0.02   0.22\n",
       "2024-01-02             53            11      False   0.11   5.83\n",
       "2024-01-03             51            10      False   0.10   5.10\n",
       "2024-01-04             46             9      False   0.09   4.14\n",
       "2024-01-05             49            10      False   0.10   4.90\n",
       "...                   ...           ...        ...    ...    ...\n",
       "2024-03-27             49            26      False   0.26  12.74\n",
       "2024-03-28             51            27      False   0.27  13.77\n",
       "2024-03-29             19            10      False   0.10   1.90\n",
       "2024-03-30              9             5      False   0.05   0.45\n",
       "2024-03-31              7             4      False   0.04   0.28\n",
       "\n",
       "[91 rows x 5 columns]"
      ]
     },
     "metadata": {},
     "output_type": "display_data"
    }
   ],
   "source": [
    "from pytrends import dailydata\n",
    "res = dailydata.get_daily_data(\"NVDA\", start_year=2024, start_mon=1, stop_year=2024, stop_mon=3, geo = '')\n",
    "display(res)\n"
   ]
  },
  {
   "cell_type": "code",
   "execution_count": 65,
   "id": "017b1d75",
   "metadata": {},
   "outputs": [],
   "source": [
    "res = res[['NVDA_unscaled']]\n",
    "res.to_csv('nvda_daily.csv',header=True)"
   ]
  },
  {
   "cell_type": "code",
   "execution_count": 66,
   "id": "807d9781",
   "metadata": {},
   "outputs": [
    {
     "data": {
      "application/vnd.plotly.v1+json": {
       "config": {
        "plotlyServerURL": "https://plot.ly"
       },
       "data": [
        {
         "hovertemplate": "variable=NVDA_unscaled<br>date=%{x}<br>value=%{y}<extra></extra>",
         "legendgroup": "NVDA_unscaled",
         "line": {
          "color": "#636efa",
          "dash": "solid"
         },
         "marker": {
          "symbol": "circle"
         },
         "mode": "lines",
         "name": "NVDA_unscaled",
         "orientation": "v",
         "showlegend": true,
         "type": "scatter",
         "x": [
          "2024-01-01T00:00:00",
          "2024-01-02T00:00:00",
          "2024-01-03T00:00:00",
          "2024-01-04T00:00:00",
          "2024-01-05T00:00:00",
          "2024-01-06T00:00:00",
          "2024-01-07T00:00:00",
          "2024-01-08T00:00:00",
          "2024-01-09T00:00:00",
          "2024-01-10T00:00:00",
          "2024-01-11T00:00:00",
          "2024-01-12T00:00:00",
          "2024-01-13T00:00:00",
          "2024-01-14T00:00:00",
          "2024-01-15T00:00:00",
          "2024-01-16T00:00:00",
          "2024-01-17T00:00:00",
          "2024-01-18T00:00:00",
          "2024-01-19T00:00:00",
          "2024-01-20T00:00:00",
          "2024-01-21T00:00:00",
          "2024-01-22T00:00:00",
          "2024-01-23T00:00:00",
          "2024-01-24T00:00:00",
          "2024-01-25T00:00:00",
          "2024-01-26T00:00:00",
          "2024-01-27T00:00:00",
          "2024-01-28T00:00:00",
          "2024-01-29T00:00:00",
          "2024-01-30T00:00:00",
          "2024-01-31T00:00:00",
          "2024-02-01T00:00:00",
          "2024-02-02T00:00:00",
          "2024-02-03T00:00:00",
          "2024-02-04T00:00:00",
          "2024-02-05T00:00:00",
          "2024-02-06T00:00:00",
          "2024-02-07T00:00:00",
          "2024-02-08T00:00:00",
          "2024-02-09T00:00:00",
          "2024-02-10T00:00:00",
          "2024-02-11T00:00:00",
          "2024-02-12T00:00:00",
          "2024-02-13T00:00:00",
          "2024-02-14T00:00:00",
          "2024-02-15T00:00:00",
          "2024-02-16T00:00:00",
          "2024-02-17T00:00:00",
          "2024-02-18T00:00:00",
          "2024-02-19T00:00:00",
          "2024-02-20T00:00:00",
          "2024-02-21T00:00:00",
          "2024-02-22T00:00:00",
          "2024-02-23T00:00:00",
          "2024-02-24T00:00:00",
          "2024-02-25T00:00:00",
          "2024-02-26T00:00:00",
          "2024-02-27T00:00:00",
          "2024-02-28T00:00:00",
          "2024-02-29T00:00:00",
          "2024-03-01T00:00:00",
          "2024-03-02T00:00:00",
          "2024-03-03T00:00:00",
          "2024-03-04T00:00:00",
          "2024-03-05T00:00:00",
          "2024-03-06T00:00:00",
          "2024-03-07T00:00:00",
          "2024-03-08T00:00:00",
          "2024-03-09T00:00:00",
          "2024-03-10T00:00:00",
          "2024-03-11T00:00:00",
          "2024-03-12T00:00:00",
          "2024-03-13T00:00:00",
          "2024-03-14T00:00:00",
          "2024-03-15T00:00:00",
          "2024-03-16T00:00:00",
          "2024-03-17T00:00:00",
          "2024-03-18T00:00:00",
          "2024-03-19T00:00:00",
          "2024-03-20T00:00:00",
          "2024-03-21T00:00:00",
          "2024-03-22T00:00:00",
          "2024-03-23T00:00:00",
          "2024-03-24T00:00:00",
          "2024-03-25T00:00:00",
          "2024-03-26T00:00:00",
          "2024-03-27T00:00:00",
          "2024-03-28T00:00:00",
          "2024-03-29T00:00:00",
          "2024-03-30T00:00:00",
          "2024-03-31T00:00:00"
         ],
         "xaxis": "x",
         "y": [
          11,
          53,
          51,
          46,
          49,
          15,
          10,
          76,
          96,
          85,
          82,
          67,
          18,
          13,
          22,
          73,
          69,
          84,
          96,
          30,
          20,
          92,
          77,
          100,
          93,
          86,
          24,
          16,
          76,
          95,
          85,
          16,
          21,
          7,
          4,
          24,
          26,
          24,
          24,
          24,
          9,
          5,
          26,
          27,
          27,
          24,
          25,
          8,
          5,
          10,
          39,
          100,
          96,
          60,
          15,
          8,
          30,
          26,
          23,
          24,
          46,
          18,
          12,
          58,
          57,
          54,
          70,
          100,
          33,
          18,
          65,
          65,
          67,
          58,
          53,
          13,
          11,
          71,
          73,
          60,
          57,
          48,
          16,
          11,
          53,
          48,
          49,
          51,
          19,
          9,
          7
         ],
         "yaxis": "y"
        }
       ],
       "layout": {
        "legend": {
         "title": {
          "text": "variable"
         },
         "tracegroupgap": 0
        },
        "template": {
         "data": {
          "bar": [
           {
            "error_x": {
             "color": "#2a3f5f"
            },
            "error_y": {
             "color": "#2a3f5f"
            },
            "marker": {
             "line": {
              "color": "#E5ECF6",
              "width": 0.5
             },
             "pattern": {
              "fillmode": "overlay",
              "size": 10,
              "solidity": 0.2
             }
            },
            "type": "bar"
           }
          ],
          "barpolar": [
           {
            "marker": {
             "line": {
              "color": "#E5ECF6",
              "width": 0.5
             },
             "pattern": {
              "fillmode": "overlay",
              "size": 10,
              "solidity": 0.2
             }
            },
            "type": "barpolar"
           }
          ],
          "carpet": [
           {
            "aaxis": {
             "endlinecolor": "#2a3f5f",
             "gridcolor": "white",
             "linecolor": "white",
             "minorgridcolor": "white",
             "startlinecolor": "#2a3f5f"
            },
            "baxis": {
             "endlinecolor": "#2a3f5f",
             "gridcolor": "white",
             "linecolor": "white",
             "minorgridcolor": "white",
             "startlinecolor": "#2a3f5f"
            },
            "type": "carpet"
           }
          ],
          "choropleth": [
           {
            "colorbar": {
             "outlinewidth": 0,
             "ticks": ""
            },
            "type": "choropleth"
           }
          ],
          "contour": [
           {
            "colorbar": {
             "outlinewidth": 0,
             "ticks": ""
            },
            "colorscale": [
             [
              0,
              "#0d0887"
             ],
             [
              0.1111111111111111,
              "#46039f"
             ],
             [
              0.2222222222222222,
              "#7201a8"
             ],
             [
              0.3333333333333333,
              "#9c179e"
             ],
             [
              0.4444444444444444,
              "#bd3786"
             ],
             [
              0.5555555555555556,
              "#d8576b"
             ],
             [
              0.6666666666666666,
              "#ed7953"
             ],
             [
              0.7777777777777778,
              "#fb9f3a"
             ],
             [
              0.8888888888888888,
              "#fdca26"
             ],
             [
              1,
              "#f0f921"
             ]
            ],
            "type": "contour"
           }
          ],
          "contourcarpet": [
           {
            "colorbar": {
             "outlinewidth": 0,
             "ticks": ""
            },
            "type": "contourcarpet"
           }
          ],
          "heatmap": [
           {
            "colorbar": {
             "outlinewidth": 0,
             "ticks": ""
            },
            "colorscale": [
             [
              0,
              "#0d0887"
             ],
             [
              0.1111111111111111,
              "#46039f"
             ],
             [
              0.2222222222222222,
              "#7201a8"
             ],
             [
              0.3333333333333333,
              "#9c179e"
             ],
             [
              0.4444444444444444,
              "#bd3786"
             ],
             [
              0.5555555555555556,
              "#d8576b"
             ],
             [
              0.6666666666666666,
              "#ed7953"
             ],
             [
              0.7777777777777778,
              "#fb9f3a"
             ],
             [
              0.8888888888888888,
              "#fdca26"
             ],
             [
              1,
              "#f0f921"
             ]
            ],
            "type": "heatmap"
           }
          ],
          "heatmapgl": [
           {
            "colorbar": {
             "outlinewidth": 0,
             "ticks": ""
            },
            "colorscale": [
             [
              0,
              "#0d0887"
             ],
             [
              0.1111111111111111,
              "#46039f"
             ],
             [
              0.2222222222222222,
              "#7201a8"
             ],
             [
              0.3333333333333333,
              "#9c179e"
             ],
             [
              0.4444444444444444,
              "#bd3786"
             ],
             [
              0.5555555555555556,
              "#d8576b"
             ],
             [
              0.6666666666666666,
              "#ed7953"
             ],
             [
              0.7777777777777778,
              "#fb9f3a"
             ],
             [
              0.8888888888888888,
              "#fdca26"
             ],
             [
              1,
              "#f0f921"
             ]
            ],
            "type": "heatmapgl"
           }
          ],
          "histogram": [
           {
            "marker": {
             "pattern": {
              "fillmode": "overlay",
              "size": 10,
              "solidity": 0.2
             }
            },
            "type": "histogram"
           }
          ],
          "histogram2d": [
           {
            "colorbar": {
             "outlinewidth": 0,
             "ticks": ""
            },
            "colorscale": [
             [
              0,
              "#0d0887"
             ],
             [
              0.1111111111111111,
              "#46039f"
             ],
             [
              0.2222222222222222,
              "#7201a8"
             ],
             [
              0.3333333333333333,
              "#9c179e"
             ],
             [
              0.4444444444444444,
              "#bd3786"
             ],
             [
              0.5555555555555556,
              "#d8576b"
             ],
             [
              0.6666666666666666,
              "#ed7953"
             ],
             [
              0.7777777777777778,
              "#fb9f3a"
             ],
             [
              0.8888888888888888,
              "#fdca26"
             ],
             [
              1,
              "#f0f921"
             ]
            ],
            "type": "histogram2d"
           }
          ],
          "histogram2dcontour": [
           {
            "colorbar": {
             "outlinewidth": 0,
             "ticks": ""
            },
            "colorscale": [
             [
              0,
              "#0d0887"
             ],
             [
              0.1111111111111111,
              "#46039f"
             ],
             [
              0.2222222222222222,
              "#7201a8"
             ],
             [
              0.3333333333333333,
              "#9c179e"
             ],
             [
              0.4444444444444444,
              "#bd3786"
             ],
             [
              0.5555555555555556,
              "#d8576b"
             ],
             [
              0.6666666666666666,
              "#ed7953"
             ],
             [
              0.7777777777777778,
              "#fb9f3a"
             ],
             [
              0.8888888888888888,
              "#fdca26"
             ],
             [
              1,
              "#f0f921"
             ]
            ],
            "type": "histogram2dcontour"
           }
          ],
          "mesh3d": [
           {
            "colorbar": {
             "outlinewidth": 0,
             "ticks": ""
            },
            "type": "mesh3d"
           }
          ],
          "parcoords": [
           {
            "line": {
             "colorbar": {
              "outlinewidth": 0,
              "ticks": ""
             }
            },
            "type": "parcoords"
           }
          ],
          "pie": [
           {
            "automargin": true,
            "type": "pie"
           }
          ],
          "scatter": [
           {
            "fillpattern": {
             "fillmode": "overlay",
             "size": 10,
             "solidity": 0.2
            },
            "type": "scatter"
           }
          ],
          "scatter3d": [
           {
            "line": {
             "colorbar": {
              "outlinewidth": 0,
              "ticks": ""
             }
            },
            "marker": {
             "colorbar": {
              "outlinewidth": 0,
              "ticks": ""
             }
            },
            "type": "scatter3d"
           }
          ],
          "scattercarpet": [
           {
            "marker": {
             "colorbar": {
              "outlinewidth": 0,
              "ticks": ""
             }
            },
            "type": "scattercarpet"
           }
          ],
          "scattergeo": [
           {
            "marker": {
             "colorbar": {
              "outlinewidth": 0,
              "ticks": ""
             }
            },
            "type": "scattergeo"
           }
          ],
          "scattergl": [
           {
            "marker": {
             "colorbar": {
              "outlinewidth": 0,
              "ticks": ""
             }
            },
            "type": "scattergl"
           }
          ],
          "scattermapbox": [
           {
            "marker": {
             "colorbar": {
              "outlinewidth": 0,
              "ticks": ""
             }
            },
            "type": "scattermapbox"
           }
          ],
          "scatterpolar": [
           {
            "marker": {
             "colorbar": {
              "outlinewidth": 0,
              "ticks": ""
             }
            },
            "type": "scatterpolar"
           }
          ],
          "scatterpolargl": [
           {
            "marker": {
             "colorbar": {
              "outlinewidth": 0,
              "ticks": ""
             }
            },
            "type": "scatterpolargl"
           }
          ],
          "scatterternary": [
           {
            "marker": {
             "colorbar": {
              "outlinewidth": 0,
              "ticks": ""
             }
            },
            "type": "scatterternary"
           }
          ],
          "surface": [
           {
            "colorbar": {
             "outlinewidth": 0,
             "ticks": ""
            },
            "colorscale": [
             [
              0,
              "#0d0887"
             ],
             [
              0.1111111111111111,
              "#46039f"
             ],
             [
              0.2222222222222222,
              "#7201a8"
             ],
             [
              0.3333333333333333,
              "#9c179e"
             ],
             [
              0.4444444444444444,
              "#bd3786"
             ],
             [
              0.5555555555555556,
              "#d8576b"
             ],
             [
              0.6666666666666666,
              "#ed7953"
             ],
             [
              0.7777777777777778,
              "#fb9f3a"
             ],
             [
              0.8888888888888888,
              "#fdca26"
             ],
             [
              1,
              "#f0f921"
             ]
            ],
            "type": "surface"
           }
          ],
          "table": [
           {
            "cells": {
             "fill": {
              "color": "#EBF0F8"
             },
             "line": {
              "color": "white"
             }
            },
            "header": {
             "fill": {
              "color": "#C8D4E3"
             },
             "line": {
              "color": "white"
             }
            },
            "type": "table"
           }
          ]
         },
         "layout": {
          "annotationdefaults": {
           "arrowcolor": "#2a3f5f",
           "arrowhead": 0,
           "arrowwidth": 1
          },
          "autotypenumbers": "strict",
          "coloraxis": {
           "colorbar": {
            "outlinewidth": 0,
            "ticks": ""
           }
          },
          "colorscale": {
           "diverging": [
            [
             0,
             "#8e0152"
            ],
            [
             0.1,
             "#c51b7d"
            ],
            [
             0.2,
             "#de77ae"
            ],
            [
             0.3,
             "#f1b6da"
            ],
            [
             0.4,
             "#fde0ef"
            ],
            [
             0.5,
             "#f7f7f7"
            ],
            [
             0.6,
             "#e6f5d0"
            ],
            [
             0.7,
             "#b8e186"
            ],
            [
             0.8,
             "#7fbc41"
            ],
            [
             0.9,
             "#4d9221"
            ],
            [
             1,
             "#276419"
            ]
           ],
           "sequential": [
            [
             0,
             "#0d0887"
            ],
            [
             0.1111111111111111,
             "#46039f"
            ],
            [
             0.2222222222222222,
             "#7201a8"
            ],
            [
             0.3333333333333333,
             "#9c179e"
            ],
            [
             0.4444444444444444,
             "#bd3786"
            ],
            [
             0.5555555555555556,
             "#d8576b"
            ],
            [
             0.6666666666666666,
             "#ed7953"
            ],
            [
             0.7777777777777778,
             "#fb9f3a"
            ],
            [
             0.8888888888888888,
             "#fdca26"
            ],
            [
             1,
             "#f0f921"
            ]
           ],
           "sequentialminus": [
            [
             0,
             "#0d0887"
            ],
            [
             0.1111111111111111,
             "#46039f"
            ],
            [
             0.2222222222222222,
             "#7201a8"
            ],
            [
             0.3333333333333333,
             "#9c179e"
            ],
            [
             0.4444444444444444,
             "#bd3786"
            ],
            [
             0.5555555555555556,
             "#d8576b"
            ],
            [
             0.6666666666666666,
             "#ed7953"
            ],
            [
             0.7777777777777778,
             "#fb9f3a"
            ],
            [
             0.8888888888888888,
             "#fdca26"
            ],
            [
             1,
             "#f0f921"
            ]
           ]
          },
          "colorway": [
           "#636efa",
           "#EF553B",
           "#00cc96",
           "#ab63fa",
           "#FFA15A",
           "#19d3f3",
           "#FF6692",
           "#B6E880",
           "#FF97FF",
           "#FECB52"
          ],
          "font": {
           "color": "#2a3f5f"
          },
          "geo": {
           "bgcolor": "white",
           "lakecolor": "white",
           "landcolor": "#E5ECF6",
           "showlakes": true,
           "showland": true,
           "subunitcolor": "white"
          },
          "hoverlabel": {
           "align": "left"
          },
          "hovermode": "closest",
          "mapbox": {
           "style": "light"
          },
          "paper_bgcolor": "white",
          "plot_bgcolor": "#E5ECF6",
          "polar": {
           "angularaxis": {
            "gridcolor": "white",
            "linecolor": "white",
            "ticks": ""
           },
           "bgcolor": "#E5ECF6",
           "radialaxis": {
            "gridcolor": "white",
            "linecolor": "white",
            "ticks": ""
           }
          },
          "scene": {
           "xaxis": {
            "backgroundcolor": "#E5ECF6",
            "gridcolor": "white",
            "gridwidth": 2,
            "linecolor": "white",
            "showbackground": true,
            "ticks": "",
            "zerolinecolor": "white"
           },
           "yaxis": {
            "backgroundcolor": "#E5ECF6",
            "gridcolor": "white",
            "gridwidth": 2,
            "linecolor": "white",
            "showbackground": true,
            "ticks": "",
            "zerolinecolor": "white"
           },
           "zaxis": {
            "backgroundcolor": "#E5ECF6",
            "gridcolor": "white",
            "gridwidth": 2,
            "linecolor": "white",
            "showbackground": true,
            "ticks": "",
            "zerolinecolor": "white"
           }
          },
          "shapedefaults": {
           "line": {
            "color": "#2a3f5f"
           }
          },
          "ternary": {
           "aaxis": {
            "gridcolor": "white",
            "linecolor": "white",
            "ticks": ""
           },
           "baxis": {
            "gridcolor": "white",
            "linecolor": "white",
            "ticks": ""
           },
           "bgcolor": "#E5ECF6",
           "caxis": {
            "gridcolor": "white",
            "linecolor": "white",
            "ticks": ""
           }
          },
          "title": {
           "x": 0.05
          },
          "xaxis": {
           "automargin": true,
           "gridcolor": "white",
           "linecolor": "white",
           "ticks": "",
           "title": {
            "standoff": 15
           },
           "zerolinecolor": "white",
           "zerolinewidth": 2
          },
          "yaxis": {
           "automargin": true,
           "gridcolor": "white",
           "linecolor": "white",
           "ticks": "",
           "title": {
            "standoff": 15
           },
           "zerolinecolor": "white",
           "zerolinewidth": 2
          }
         }
        },
        "title": {
         "text": "Keyword Web Search Interest Over Time"
        },
        "xaxis": {
         "anchor": "y",
         "domain": [
          0,
          1
         ],
         "title": {
          "text": "date"
         }
        },
        "yaxis": {
         "anchor": "x",
         "domain": [
          0,
          1
         ],
         "title": {
          "text": "value"
         }
        }
       }
      }
     },
     "metadata": {},
     "output_type": "display_data"
    }
   ],
   "source": [
    "nvda_daily = res\n",
    "fig = px.line(nvda_daily, y=['NVDA_unscaled'], title='Keyword Web Search Interest Over Time')\n",
    "fig.show()"
   ]
  },
  {
   "cell_type": "code",
   "execution_count": 70,
   "id": "c9b5bd50",
   "metadata": {},
   "outputs": [
    {
     "data": {
      "text/html": [
       "<div>\n",
       "<style scoped>\n",
       "    .dataframe tbody tr th:only-of-type {\n",
       "        vertical-align: middle;\n",
       "    }\n",
       "\n",
       "    .dataframe tbody tr th {\n",
       "        vertical-align: top;\n",
       "    }\n",
       "\n",
       "    .dataframe thead th {\n",
       "        text-align: right;\n",
       "    }\n",
       "</style>\n",
       "<table border=\"1\" class=\"dataframe\">\n",
       "  <thead>\n",
       "    <tr style=\"text-align: right;\">\n",
       "      <th></th>\n",
       "      <th>category</th>\n",
       "      <th>datetime</th>\n",
       "      <th>headline</th>\n",
       "      <th>id</th>\n",
       "      <th>image</th>\n",
       "      <th>related</th>\n",
       "      <th>source</th>\n",
       "      <th>summary</th>\n",
       "      <th>url</th>\n",
       "    </tr>\n",
       "  </thead>\n",
       "  <tbody>\n",
       "    <tr>\n",
       "      <th>0</th>\n",
       "      <td>company</td>\n",
       "      <td>1711929540</td>\n",
       "      <td>Spear Advisors Q4 2023 Fund Letter</td>\n",
       "      <td>126771744</td>\n",
       "      <td>https://media.gettyimages.com/id/1569391851/ph...</td>\n",
       "      <td>NVDA</td>\n",
       "      <td>SeekingAlpha</td>\n",
       "      <td>Spear Alpha ETF was up 88.02% in 2023 vs. S&amp;P ...</td>\n",
       "      <td>https://finnhub.io/api/news?id=57a63a9c0efd597...</td>\n",
       "    </tr>\n",
       "    <tr>\n",
       "      <th>1</th>\n",
       "      <td>company</td>\n",
       "      <td>1711927509</td>\n",
       "      <td>China criticises US tightening of chip export ...</td>\n",
       "      <td>126771584</td>\n",
       "      <td></td>\n",
       "      <td>NVDA</td>\n",
       "      <td>Finnhub</td>\n",
       "      <td>China has criticised thetightening of U.S. rul...</td>\n",
       "      <td>https://finnhub.io/api/news?id=ce2a74e9ecdec34...</td>\n",
       "    </tr>\n",
       "    <tr>\n",
       "      <th>2</th>\n",
       "      <td>company</td>\n",
       "      <td>1711900395</td>\n",
       "      <td>12 Best S&amp;P 500 Stocks To Buy According to Ana...</td>\n",
       "      <td>126767975</td>\n",
       "      <td>https://s.yimg.com/ny/api/res/1.2/RDyivIe93nno...</td>\n",
       "      <td>NVDA</td>\n",
       "      <td>Yahoo</td>\n",
       "      <td>In this piece, we will take a look at the 12 b...</td>\n",
       "      <td>https://finnhub.io/api/news?id=0b79d8eff60a4d8...</td>\n",
       "    </tr>\n",
       "    <tr>\n",
       "      <th>3</th>\n",
       "      <td>company</td>\n",
       "      <td>1711899660</td>\n",
       "      <td>Nvidia Invested in SoundHound AI Stock, But Sh...</td>\n",
       "      <td>126769488</td>\n",
       "      <td>https://g.foolcdn.com/editorial/images/771102/...</td>\n",
       "      <td>NVDA</td>\n",
       "      <td>Yahoo</td>\n",
       "      <td>SoundHound AI's stock has soared since it was ...</td>\n",
       "      <td>https://finnhub.io/api/news?id=b18e1e51c352edf...</td>\n",
       "    </tr>\n",
       "    <tr>\n",
       "      <th>4</th>\n",
       "      <td>company</td>\n",
       "      <td>1711897860</td>\n",
       "      <td>4 Things I Look For in an Artificial Intellige...</td>\n",
       "      <td>126769489</td>\n",
       "      <td>https://g.foolcdn.com/editorial/images/771075/...</td>\n",
       "      <td>NVDA</td>\n",
       "      <td>Yahoo</td>\n",
       "      <td>Don't get too caught up in the AI hype. Learn ...</td>\n",
       "      <td>https://finnhub.io/api/news?id=fbd9d07db906473...</td>\n",
       "    </tr>\n",
       "    <tr>\n",
       "      <th>...</th>\n",
       "      <td>...</td>\n",
       "      <td>...</td>\n",
       "      <td>...</td>\n",
       "      <td>...</td>\n",
       "      <td>...</td>\n",
       "      <td>...</td>\n",
       "      <td>...</td>\n",
       "      <td>...</td>\n",
       "      <td>...</td>\n",
       "    </tr>\n",
       "    <tr>\n",
       "      <th>220</th>\n",
       "      <td>company</td>\n",
       "      <td>1711518271</td>\n",
       "      <td>The Peak Fed Dovishness - That's Negative For ...</td>\n",
       "      <td>126704773</td>\n",
       "      <td>https://static.seekingalpha.com/cdn/s3/uploads...</td>\n",
       "      <td>NVDA</td>\n",
       "      <td>SeekingAlpha</td>\n",
       "      <td>The Fed will be forced to delay interest rate ...</td>\n",
       "      <td>https://finnhub.io/api/news?id=d40b57965e30f23...</td>\n",
       "    </tr>\n",
       "    <tr>\n",
       "      <th>221</th>\n",
       "      <td>company</td>\n",
       "      <td>1711517940</td>\n",
       "      <td>From $170 to $375: 3 Factors That Could Drive ...</td>\n",
       "      <td>126710872</td>\n",
       "      <td></td>\n",
       "      <td>NVDA</td>\n",
       "      <td>InvestorPlace</td>\n",
       "      <td>Looking for stock market analysis and research...</td>\n",
       "      <td>https://finnhub.io/api/news?id=9d671097cf910ad...</td>\n",
       "    </tr>\n",
       "    <tr>\n",
       "      <th>222</th>\n",
       "      <td>company</td>\n",
       "      <td>1711517580</td>\n",
       "      <td>NVDA Stock’s Race to $1K: 3 Reasons It Will Ge...</td>\n",
       "      <td>126708812</td>\n",
       "      <td></td>\n",
       "      <td>NVDA</td>\n",
       "      <td>InvestorPlace</td>\n",
       "      <td>Looking for stock market analysis and research...</td>\n",
       "      <td>https://finnhub.io/api/news?id=e44616f5c38c94e...</td>\n",
       "    </tr>\n",
       "    <tr>\n",
       "      <th>223</th>\n",
       "      <td>company</td>\n",
       "      <td>1711516980</td>\n",
       "      <td>Nvidia’s Stock Reaches Crossroads At Key Fibon...</td>\n",
       "      <td>126712285</td>\n",
       "      <td></td>\n",
       "      <td>NVDA</td>\n",
       "      <td>TalkMarkets</td>\n",
       "      <td>Looking for stock market analysis and research...</td>\n",
       "      <td>https://finnhub.io/api/news?id=b3f2fe0865d9114...</td>\n",
       "    </tr>\n",
       "    <tr>\n",
       "      <th>224</th>\n",
       "      <td>company</td>\n",
       "      <td>1711516680</td>\n",
       "      <td>U.S. Stock Futures Rally as Focus Shifts to Fe...</td>\n",
       "      <td>126709777</td>\n",
       "      <td></td>\n",
       "      <td>NVDA</td>\n",
       "      <td>GuruFocus</td>\n",
       "      <td>Looking for stock market analysis and research...</td>\n",
       "      <td>https://finnhub.io/api/news?id=588188e7d16948c...</td>\n",
       "    </tr>\n",
       "  </tbody>\n",
       "</table>\n",
       "<p>225 rows × 9 columns</p>\n",
       "</div>"
      ],
      "text/plain": [
       "    category    datetime                                           headline  \\\n",
       "0    company  1711929540                 Spear Advisors Q4 2023 Fund Letter   \n",
       "1    company  1711927509  China criticises US tightening of chip export ...   \n",
       "2    company  1711900395  12 Best S&P 500 Stocks To Buy According to Ana...   \n",
       "3    company  1711899660  Nvidia Invested in SoundHound AI Stock, But Sh...   \n",
       "4    company  1711897860  4 Things I Look For in an Artificial Intellige...   \n",
       "..       ...         ...                                                ...   \n",
       "220  company  1711518271  The Peak Fed Dovishness - That's Negative For ...   \n",
       "221  company  1711517940  From $170 to $375: 3 Factors That Could Drive ...   \n",
       "222  company  1711517580  NVDA Stock’s Race to $1K: 3 Reasons It Will Ge...   \n",
       "223  company  1711516980  Nvidia’s Stock Reaches Crossroads At Key Fibon...   \n",
       "224  company  1711516680  U.S. Stock Futures Rally as Focus Shifts to Fe...   \n",
       "\n",
       "            id                                              image related  \\\n",
       "0    126771744  https://media.gettyimages.com/id/1569391851/ph...    NVDA   \n",
       "1    126771584                                                       NVDA   \n",
       "2    126767975  https://s.yimg.com/ny/api/res/1.2/RDyivIe93nno...    NVDA   \n",
       "3    126769488  https://g.foolcdn.com/editorial/images/771102/...    NVDA   \n",
       "4    126769489  https://g.foolcdn.com/editorial/images/771075/...    NVDA   \n",
       "..         ...                                                ...     ...   \n",
       "220  126704773  https://static.seekingalpha.com/cdn/s3/uploads...    NVDA   \n",
       "221  126710872                                                       NVDA   \n",
       "222  126708812                                                       NVDA   \n",
       "223  126712285                                                       NVDA   \n",
       "224  126709777                                                       NVDA   \n",
       "\n",
       "            source                                            summary  \\\n",
       "0     SeekingAlpha  Spear Alpha ETF was up 88.02% in 2023 vs. S&P ...   \n",
       "1          Finnhub  China has criticised thetightening of U.S. rul...   \n",
       "2            Yahoo  In this piece, we will take a look at the 12 b...   \n",
       "3            Yahoo  SoundHound AI's stock has soared since it was ...   \n",
       "4            Yahoo  Don't get too caught up in the AI hype. Learn ...   \n",
       "..             ...                                                ...   \n",
       "220   SeekingAlpha  The Fed will be forced to delay interest rate ...   \n",
       "221  InvestorPlace  Looking for stock market analysis and research...   \n",
       "222  InvestorPlace  Looking for stock market analysis and research...   \n",
       "223    TalkMarkets  Looking for stock market analysis and research...   \n",
       "224      GuruFocus  Looking for stock market analysis and research...   \n",
       "\n",
       "                                                   url  \n",
       "0    https://finnhub.io/api/news?id=57a63a9c0efd597...  \n",
       "1    https://finnhub.io/api/news?id=ce2a74e9ecdec34...  \n",
       "2    https://finnhub.io/api/news?id=0b79d8eff60a4d8...  \n",
       "3    https://finnhub.io/api/news?id=b18e1e51c352edf...  \n",
       "4    https://finnhub.io/api/news?id=fbd9d07db906473...  \n",
       "..                                                 ...  \n",
       "220  https://finnhub.io/api/news?id=d40b57965e30f23...  \n",
       "221  https://finnhub.io/api/news?id=9d671097cf910ad...  \n",
       "222  https://finnhub.io/api/news?id=e44616f5c38c94e...  \n",
       "223  https://finnhub.io/api/news?id=b3f2fe0865d9114...  \n",
       "224  https://finnhub.io/api/news?id=588188e7d16948c...  \n",
       "\n",
       "[225 rows x 9 columns]"
      ]
     },
     "metadata": {},
     "output_type": "display_data"
    }
   ],
   "source": [
    "finnhub_client = finnhub.Client(api_key=\"cp498o1r01qs3666htc0cp498o1r01qs3666htcg\")\n",
    "news = finnhub_client.company_news('NVDA', _from=\"2024-01-01\", to=\"2024-03-31\")\n",
    "df = pd.DataFrame(news)\n",
    "display(df)"
   ]
  },
  {
   "cell_type": "code",
   "execution_count": 71,
   "id": "3b8528ba",
   "metadata": {},
   "outputs": [],
   "source": [
    "vader = SentimentIntensityAnalyzer()\n",
    "\n",
    "f = lambda title: vader.polarity_scores(title)['compound']\n",
    "df['compound'] = df.iloc[:,2].apply(f)\n",
    "\n",
    "df['date'] = pd.to_datetime(df['datetime'], unit='s').dt.strftime('%Y-%m-%d')"
   ]
  },
  {
   "cell_type": "code",
   "execution_count": 72,
   "id": "a7df0e52",
   "metadata": {},
   "outputs": [
    {
     "data": {
      "text/html": [
       "<div>\n",
       "<style scoped>\n",
       "    .dataframe tbody tr th:only-of-type {\n",
       "        vertical-align: middle;\n",
       "    }\n",
       "\n",
       "    .dataframe tbody tr th {\n",
       "        vertical-align: top;\n",
       "    }\n",
       "\n",
       "    .dataframe thead th {\n",
       "        text-align: right;\n",
       "    }\n",
       "</style>\n",
       "<table border=\"1\" class=\"dataframe\">\n",
       "  <thead>\n",
       "    <tr style=\"text-align: right;\">\n",
       "      <th></th>\n",
       "      <th>category</th>\n",
       "      <th>headline</th>\n",
       "      <th>id</th>\n",
       "      <th>image</th>\n",
       "      <th>related</th>\n",
       "      <th>source</th>\n",
       "      <th>summary</th>\n",
       "      <th>url</th>\n",
       "      <th>compound</th>\n",
       "      <th>date</th>\n",
       "    </tr>\n",
       "  </thead>\n",
       "  <tbody>\n",
       "    <tr>\n",
       "      <th>0</th>\n",
       "      <td>company</td>\n",
       "      <td>Spear Advisors Q4 2023 Fund Letter</td>\n",
       "      <td>126771744</td>\n",
       "      <td>https://media.gettyimages.com/id/1569391851/ph...</td>\n",
       "      <td>NVDA</td>\n",
       "      <td>SeekingAlpha</td>\n",
       "      <td>Spear Alpha ETF was up 88.02% in 2023 vs. S&amp;P ...</td>\n",
       "      <td>https://finnhub.io/api/news?id=57a63a9c0efd597...</td>\n",
       "      <td>0.0000</td>\n",
       "      <td>2024-03-31</td>\n",
       "    </tr>\n",
       "    <tr>\n",
       "      <th>1</th>\n",
       "      <td>company</td>\n",
       "      <td>China criticises US tightening of chip export ...</td>\n",
       "      <td>126771584</td>\n",
       "      <td></td>\n",
       "      <td>NVDA</td>\n",
       "      <td>Finnhub</td>\n",
       "      <td>China has criticised thetightening of U.S. rul...</td>\n",
       "      <td>https://finnhub.io/api/news?id=ce2a74e9ecdec34...</td>\n",
       "      <td>-0.3182</td>\n",
       "      <td>2024-03-31</td>\n",
       "    </tr>\n",
       "    <tr>\n",
       "      <th>2</th>\n",
       "      <td>company</td>\n",
       "      <td>12 Best S&amp;P 500 Stocks To Buy According to Ana...</td>\n",
       "      <td>126767975</td>\n",
       "      <td>https://s.yimg.com/ny/api/res/1.2/RDyivIe93nno...</td>\n",
       "      <td>NVDA</td>\n",
       "      <td>Yahoo</td>\n",
       "      <td>In this piece, we will take a look at the 12 b...</td>\n",
       "      <td>https://finnhub.io/api/news?id=0b79d8eff60a4d8...</td>\n",
       "      <td>0.6369</td>\n",
       "      <td>2024-03-31</td>\n",
       "    </tr>\n",
       "    <tr>\n",
       "      <th>3</th>\n",
       "      <td>company</td>\n",
       "      <td>Nvidia Invested in SoundHound AI Stock, But Sh...</td>\n",
       "      <td>126769488</td>\n",
       "      <td>https://g.foolcdn.com/editorial/images/771102/...</td>\n",
       "      <td>NVDA</td>\n",
       "      <td>Yahoo</td>\n",
       "      <td>SoundHound AI's stock has soared since it was ...</td>\n",
       "      <td>https://finnhub.io/api/news?id=b18e1e51c352edf...</td>\n",
       "      <td>0.0000</td>\n",
       "      <td>2024-03-31</td>\n",
       "    </tr>\n",
       "    <tr>\n",
       "      <th>4</th>\n",
       "      <td>company</td>\n",
       "      <td>4 Things I Look For in an Artificial Intellige...</td>\n",
       "      <td>126769489</td>\n",
       "      <td>https://g.foolcdn.com/editorial/images/771075/...</td>\n",
       "      <td>NVDA</td>\n",
       "      <td>Yahoo</td>\n",
       "      <td>Don't get too caught up in the AI hype. Learn ...</td>\n",
       "      <td>https://finnhub.io/api/news?id=fbd9d07db906473...</td>\n",
       "      <td>0.4767</td>\n",
       "      <td>2024-03-31</td>\n",
       "    </tr>\n",
       "    <tr>\n",
       "      <th>...</th>\n",
       "      <td>...</td>\n",
       "      <td>...</td>\n",
       "      <td>...</td>\n",
       "      <td>...</td>\n",
       "      <td>...</td>\n",
       "      <td>...</td>\n",
       "      <td>...</td>\n",
       "      <td>...</td>\n",
       "      <td>...</td>\n",
       "      <td>...</td>\n",
       "    </tr>\n",
       "    <tr>\n",
       "      <th>220</th>\n",
       "      <td>company</td>\n",
       "      <td>The Peak Fed Dovishness - That's Negative For ...</td>\n",
       "      <td>126704773</td>\n",
       "      <td>https://static.seekingalpha.com/cdn/s3/uploads...</td>\n",
       "      <td>NVDA</td>\n",
       "      <td>SeekingAlpha</td>\n",
       "      <td>The Fed will be forced to delay interest rate ...</td>\n",
       "      <td>https://finnhub.io/api/news?id=d40b57965e30f23...</td>\n",
       "      <td>-0.5719</td>\n",
       "      <td>2024-03-27</td>\n",
       "    </tr>\n",
       "    <tr>\n",
       "      <th>221</th>\n",
       "      <td>company</td>\n",
       "      <td>From $170 to $375: 3 Factors That Could Drive ...</td>\n",
       "      <td>126710872</td>\n",
       "      <td></td>\n",
       "      <td>NVDA</td>\n",
       "      <td>InvestorPlace</td>\n",
       "      <td>Looking for stock market analysis and research...</td>\n",
       "      <td>https://finnhub.io/api/news?id=9d671097cf910ad...</td>\n",
       "      <td>0.3818</td>\n",
       "      <td>2024-03-27</td>\n",
       "    </tr>\n",
       "    <tr>\n",
       "      <th>222</th>\n",
       "      <td>company</td>\n",
       "      <td>NVDA Stock’s Race to $1K: 3 Reasons It Will Ge...</td>\n",
       "      <td>126708812</td>\n",
       "      <td></td>\n",
       "      <td>NVDA</td>\n",
       "      <td>InvestorPlace</td>\n",
       "      <td>Looking for stock market analysis and research...</td>\n",
       "      <td>https://finnhub.io/api/news?id=e44616f5c38c94e...</td>\n",
       "      <td>0.0000</td>\n",
       "      <td>2024-03-27</td>\n",
       "    </tr>\n",
       "    <tr>\n",
       "      <th>223</th>\n",
       "      <td>company</td>\n",
       "      <td>Nvidia’s Stock Reaches Crossroads At Key Fibon...</td>\n",
       "      <td>126712285</td>\n",
       "      <td></td>\n",
       "      <td>NVDA</td>\n",
       "      <td>TalkMarkets</td>\n",
       "      <td>Looking for stock market analysis and research...</td>\n",
       "      <td>https://finnhub.io/api/news?id=b3f2fe0865d9114...</td>\n",
       "      <td>0.0516</td>\n",
       "      <td>2024-03-27</td>\n",
       "    </tr>\n",
       "    <tr>\n",
       "      <th>224</th>\n",
       "      <td>company</td>\n",
       "      <td>U.S. Stock Futures Rally as Focus Shifts to Fe...</td>\n",
       "      <td>126709777</td>\n",
       "      <td></td>\n",
       "      <td>NVDA</td>\n",
       "      <td>GuruFocus</td>\n",
       "      <td>Looking for stock market analysis and research...</td>\n",
       "      <td>https://finnhub.io/api/news?id=588188e7d16948c...</td>\n",
       "      <td>0.0000</td>\n",
       "      <td>2024-03-27</td>\n",
       "    </tr>\n",
       "  </tbody>\n",
       "</table>\n",
       "<p>225 rows × 10 columns</p>\n",
       "</div>"
      ],
      "text/plain": [
       "    category                                           headline         id  \\\n",
       "0    company                 Spear Advisors Q4 2023 Fund Letter  126771744   \n",
       "1    company  China criticises US tightening of chip export ...  126771584   \n",
       "2    company  12 Best S&P 500 Stocks To Buy According to Ana...  126767975   \n",
       "3    company  Nvidia Invested in SoundHound AI Stock, But Sh...  126769488   \n",
       "4    company  4 Things I Look For in an Artificial Intellige...  126769489   \n",
       "..       ...                                                ...        ...   \n",
       "220  company  The Peak Fed Dovishness - That's Negative For ...  126704773   \n",
       "221  company  From $170 to $375: 3 Factors That Could Drive ...  126710872   \n",
       "222  company  NVDA Stock’s Race to $1K: 3 Reasons It Will Ge...  126708812   \n",
       "223  company  Nvidia’s Stock Reaches Crossroads At Key Fibon...  126712285   \n",
       "224  company  U.S. Stock Futures Rally as Focus Shifts to Fe...  126709777   \n",
       "\n",
       "                                                 image related         source  \\\n",
       "0    https://media.gettyimages.com/id/1569391851/ph...    NVDA   SeekingAlpha   \n",
       "1                                                         NVDA        Finnhub   \n",
       "2    https://s.yimg.com/ny/api/res/1.2/RDyivIe93nno...    NVDA          Yahoo   \n",
       "3    https://g.foolcdn.com/editorial/images/771102/...    NVDA          Yahoo   \n",
       "4    https://g.foolcdn.com/editorial/images/771075/...    NVDA          Yahoo   \n",
       "..                                                 ...     ...            ...   \n",
       "220  https://static.seekingalpha.com/cdn/s3/uploads...    NVDA   SeekingAlpha   \n",
       "221                                                       NVDA  InvestorPlace   \n",
       "222                                                       NVDA  InvestorPlace   \n",
       "223                                                       NVDA    TalkMarkets   \n",
       "224                                                       NVDA      GuruFocus   \n",
       "\n",
       "                                               summary  \\\n",
       "0    Spear Alpha ETF was up 88.02% in 2023 vs. S&P ...   \n",
       "1    China has criticised thetightening of U.S. rul...   \n",
       "2    In this piece, we will take a look at the 12 b...   \n",
       "3    SoundHound AI's stock has soared since it was ...   \n",
       "4    Don't get too caught up in the AI hype. Learn ...   \n",
       "..                                                 ...   \n",
       "220  The Fed will be forced to delay interest rate ...   \n",
       "221  Looking for stock market analysis and research...   \n",
       "222  Looking for stock market analysis and research...   \n",
       "223  Looking for stock market analysis and research...   \n",
       "224  Looking for stock market analysis and research...   \n",
       "\n",
       "                                                   url  compound        date  \n",
       "0    https://finnhub.io/api/news?id=57a63a9c0efd597...    0.0000  2024-03-31  \n",
       "1    https://finnhub.io/api/news?id=ce2a74e9ecdec34...   -0.3182  2024-03-31  \n",
       "2    https://finnhub.io/api/news?id=0b79d8eff60a4d8...    0.6369  2024-03-31  \n",
       "3    https://finnhub.io/api/news?id=b18e1e51c352edf...    0.0000  2024-03-31  \n",
       "4    https://finnhub.io/api/news?id=fbd9d07db906473...    0.4767  2024-03-31  \n",
       "..                                                 ...       ...         ...  \n",
       "220  https://finnhub.io/api/news?id=d40b57965e30f23...   -0.5719  2024-03-27  \n",
       "221  https://finnhub.io/api/news?id=9d671097cf910ad...    0.3818  2024-03-27  \n",
       "222  https://finnhub.io/api/news?id=e44616f5c38c94e...    0.0000  2024-03-27  \n",
       "223  https://finnhub.io/api/news?id=b3f2fe0865d9114...    0.0516  2024-03-27  \n",
       "224  https://finnhub.io/api/news?id=588188e7d16948c...    0.0000  2024-03-27  \n",
       "\n",
       "[225 rows x 10 columns]"
      ]
     },
     "metadata": {},
     "output_type": "display_data"
    },
    {
     "name": "stdout",
     "output_type": "stream",
     "text": [
      "         date related  compound\n",
      "0  2024-03-27    NVDA  0.074990\n",
      "1  2024-03-28    NVDA  0.206570\n",
      "2  2024-03-29    NVDA  0.258973\n",
      "3  2024-03-30    NVDA  0.141742\n",
      "4  2024-03-31    NVDA  0.322500\n"
     ]
    }
   ],
   "source": [
    "# Drop the old 'datetime' column\n",
    "df = df.drop(columns=['datetime'])\n",
    "display(df)\n",
    "#display(df.iloc[:,2])\n",
    "\n",
    "df_filtered = df[['related', 'date', 'compound']]\n",
    "\n",
    "# Group by 'date' and calculate the average of 'compound'\n",
    "df_grouped = df_filtered.groupby('date', as_index=False).agg({'related': 'first', 'compound': 'mean'})\n",
    "\n",
    "# Display the resulting DataFrame\n",
    "print(df_grouped)"
   ]
  },
  {
   "cell_type": "code",
   "execution_count": 73,
   "id": "99da8562",
   "metadata": {},
   "outputs": [
    {
     "data": {
      "text/plain": [
       "<Figure size 1000x800 with 0 Axes>"
      ]
     },
     "metadata": {},
     "output_type": "display_data"
    },
    {
     "data": {
      "image/png": "[encoded data removed]",
      "text/plain": [
       "<Figure size 640x480 with 1 Axes>"
      ]
     },
     "metadata": {},
     "output_type": "display_data"
    }
   ],
   "source": [
    "plt.figure(figsize=(10,8))\n",
    "mean_df = df.groupby(['related', 'date']).mean(numeric_only=True).unstack()\n",
    "mean_df = mean_df.xs('compound', axis=\"columns\")\n",
    "mean_df.plot(kind='bar')\n",
    "plt.show()"
   ]
  },
  {
   "cell_type": "code",
   "execution_count": null,
   "id": "443b9278",
   "metadata": {},
   "outputs": [],
   "source": [
    "# Get stock financial data\n",
    "NVDA = yf.Ticker(\"NVDA\")\n",
    "NVDA = NVDA.history(start='2024-01-01',end='2024-03-31')\n",
    "nvda = NVDA[['Close', 'Volume']]\n",
    "nvda.index = nvda.index.tz_localize(None)\n",
    "sentiment_transposed = mean_df.T\n",
    "sentiment_transposed.index = pd.to_datetime(sentiment_transposed.index)"
   ]
  },
  {
   "cell_type": "code",
   "execution_count": 75,
   "id": "37c38ffa",
   "metadata": {},
   "outputs": [
    {
     "data": {
      "text/html": [
       "<div>\n",
       "<style scoped>\n",
       "    .dataframe tbody tr th:only-of-type {\n",
       "        vertical-align: middle;\n",
       "    }\n",
       "\n",
       "    .dataframe tbody tr th {\n",
       "        vertical-align: top;\n",
       "    }\n",
       "\n",
       "    .dataframe thead th {\n",
       "        text-align: right;\n",
       "    }\n",
       "</style>\n",
       "<table border=\"1\" class=\"dataframe\">\n",
       "  <thead>\n",
       "    <tr style=\"text-align: right;\">\n",
       "      <th></th>\n",
       "      <th>Close</th>\n",
       "      <th>Sentiment</th>\n",
       "      <th>Trend</th>\n",
       "    </tr>\n",
       "    <tr>\n",
       "      <th>Date</th>\n",
       "      <th></th>\n",
       "      <th></th>\n",
       "      <th></th>\n",
       "    </tr>\n",
       "  </thead>\n",
       "  <tbody>\n",
       "    <tr>\n",
       "      <th>2024-01-02</th>\n",
       "      <td>481.657410</td>\n",
       "      <td>0.00000</td>\n",
       "      <td>53</td>\n",
       "    </tr>\n",
       "    <tr>\n",
       "      <th>2024-01-03</th>\n",
       "      <td>475.667694</td>\n",
       "      <td>0.00000</td>\n",
       "      <td>51</td>\n",
       "    </tr>\n",
       "    <tr>\n",
       "      <th>2024-01-04</th>\n",
       "      <td>479.957489</td>\n",
       "      <td>0.00000</td>\n",
       "      <td>46</td>\n",
       "    </tr>\n",
       "    <tr>\n",
       "      <th>2024-01-05</th>\n",
       "      <td>490.946960</td>\n",
       "      <td>0.00000</td>\n",
       "      <td>49</td>\n",
       "    </tr>\n",
       "    <tr>\n",
       "      <th>2024-01-08</th>\n",
       "      <td>522.505493</td>\n",
       "      <td>0.00000</td>\n",
       "      <td>76</td>\n",
       "    </tr>\n",
       "    <tr>\n",
       "      <th>...</th>\n",
       "      <td>...</td>\n",
       "      <td>...</td>\n",
       "      <td>...</td>\n",
       "    </tr>\n",
       "    <tr>\n",
       "      <th>2024-03-22</th>\n",
       "      <td>942.890015</td>\n",
       "      <td>0.00000</td>\n",
       "      <td>48</td>\n",
       "    </tr>\n",
       "    <tr>\n",
       "      <th>2024-03-25</th>\n",
       "      <td>950.020020</td>\n",
       "      <td>0.00000</td>\n",
       "      <td>53</td>\n",
       "    </tr>\n",
       "    <tr>\n",
       "      <th>2024-03-26</th>\n",
       "      <td>925.609985</td>\n",
       "      <td>0.00000</td>\n",
       "      <td>48</td>\n",
       "    </tr>\n",
       "    <tr>\n",
       "      <th>2024-03-27</th>\n",
       "      <td>902.500000</td>\n",
       "      <td>0.07499</td>\n",
       "      <td>49</td>\n",
       "    </tr>\n",
       "    <tr>\n",
       "      <th>2024-03-28</th>\n",
       "      <td>903.559998</td>\n",
       "      <td>0.20657</td>\n",
       "      <td>51</td>\n",
       "    </tr>\n",
       "  </tbody>\n",
       "</table>\n",
       "<p>61 rows × 3 columns</p>\n",
       "</div>"
      ],
      "text/plain": [
       "                 Close  Sentiment  Trend\n",
       "Date                                    \n",
       "2024-01-02  481.657410    0.00000     53\n",
       "2024-01-03  475.667694    0.00000     51\n",
       "2024-01-04  479.957489    0.00000     46\n",
       "2024-01-05  490.946960    0.00000     49\n",
       "2024-01-08  522.505493    0.00000     76\n",
       "...                ...        ...    ...\n",
       "2024-03-22  942.890015    0.00000     48\n",
       "2024-03-25  950.020020    0.00000     53\n",
       "2024-03-26  925.609985    0.00000     48\n",
       "2024-03-27  902.500000    0.07499     49\n",
       "2024-03-28  903.559998    0.20657     51\n",
       "\n",
       "[61 rows x 3 columns]"
      ]
     },
     "metadata": {},
     "output_type": "display_data"
    }
   ],
   "source": [
    "# Merge DataFrames\n",
    "merged_df = pd.merge(nvda, sentiment_transposed[['NVDA']], left_index=True, right_index=True, how='left')\n",
    "merged_df = pd.merge(merged_df, nvda_daily[['NVDA_unscaled']], left_index=True, right_index=True, how='left')\n",
    "merged_df = merged_df.rename(columns={'NVDA': 'Sentiment'})\n",
    "merged_df = merged_df.rename(columns={'NVDA_unscaled': 'Trend'})\n",
    "merged_df['Sentiment'] = merged_df['Sentiment'].fillna(0)\n",
    "merged_df['Trend'] = merged_df['Trend'].fillna(0)\n",
    "merged_df=merged_df[['Close','Sentiment','Trend']]\n",
    "display(merged_df)"
   ]
  },
  {
   "cell_type": "code",
   "execution_count": 78,
   "id": "4fa55346",
   "metadata": {},
   "outputs": [],
   "source": [
    "# Normalize the data\n",
    "scaler = MinMaxScaler()\n",
    "scaled_data = scaler.fit_transform(merged_df)\n",
    "\n",
    "# Prepare the data for LSTM\n",
    "def create_sequences(data, seq_length):\n",
    "    X = []\n",
    "    y = []\n",
    "    for i in range(seq_length, len(data)):\n",
    "        X.append(data[i-seq_length:i])\n",
    "        y.append(data[i, 0])  # Predicting the 'Close' price\n",
    "    return np.array(X), np.array(y)\n",
    "\n",
    "# Split the data into train and test sets\n",
    "train_size = int(len(scaled_data) * 0.8)\n",
    "train_data = scaled_data[:train_size]\n",
    "test_data = scaled_data[train_size:]\n",
    "\n",
    "# Create sequences\n",
    "seq_length = 10  # You can adjust this as needed\n",
    "X_train, y_train = create_sequences(train_data, seq_length)\n",
    "X_test, y_test = create_sequences(test_data, seq_length)\n"
   ]
  },
  {
   "cell_type": "code",
   "execution_count": 79,
   "id": "12fa082a",
   "metadata": {},
   "outputs": [
    {
     "name": "stderr",
     "output_type": "stream",
     "text": [
      "C:\\Users\\razva\\AppData\\Roaming\\Python\\Python311\\site-packages\\keras\\src\\layers\\rnn\\rnn.py:204: UserWarning:\n",
      "\n",
      "Do not pass an `input_shape`/`input_dim` argument to a layer. When using Sequential models, prefer using an `Input(shape)` object as the first layer in the model instead.\n",
      "\n"
     ]
    }
   ],
   "source": [
    "# Define the model\n",
    "model = Sequential()\n",
    "model.add(LSTM(units=50, return_sequences=True, input_shape=(X_train.shape[1], X_train.shape[2])))\n",
    "model.add(Dropout(0.2))\n",
    "model.add(LSTM(units=50, return_sequences=True))\n",
    "model.add(Dropout(0.2))\n",
    "model.add(LSTM(units=50, return_sequences=True))\n",
    "model.add(Dropout(0.2))\n",
    "model.add(LSTM(units=50))\n",
    "model.add(Dropout(0.2))\n",
    "model.add(Dense(units=1))\n",
    "\n",
    "model.compile(optimizer='adam', loss='mean_squared_error')\n"
   ]
  },
  {
   "cell_type": "code",
   "execution_count": 88,
   "id": "797f711c",
   "metadata": {},
   "outputs": [
    {
     "name": "stdout",
     "output_type": "stream",
     "text": [
      "Epoch 1/10\n"
     ]
    },
    {
     "name": "stdout",
     "output_type": "stream",
     "text": [
      "\u001b[1m2/2\u001b[0m \u001b[32m━━━━━━━━━━━━━━━━━━━━\u001b[0m\u001b[37m\u001b[0m \u001b[1m0s\u001b[0m 47ms/step - loss: 0.0246 \n",
      "Epoch 2/10\n",
      "\u001b[1m2/2\u001b[0m \u001b[32m━━━━━━━━━━━━━━━━━━━━\u001b[0m\u001b[37m\u001b[0m \u001b[1m0s\u001b[0m 29ms/step - loss: 0.0164 \n",
      "Epoch 3/10\n",
      "\u001b[1m2/2\u001b[0m \u001b[32m━━━━━━━━━━━━━━━━━━━━\u001b[0m\u001b[37m\u001b[0m \u001b[1m0s\u001b[0m 27ms/step - loss: 0.0102\n",
      "Epoch 4/10\n",
      "\u001b[1m2/2\u001b[0m \u001b[32m━━━━━━━━━━━━━━━━━━━━\u001b[0m\u001b[37m\u001b[0m \u001b[1m0s\u001b[0m 17ms/step - loss: 0.0127\n",
      "Epoch 5/10\n",
      "\u001b[1m2/2\u001b[0m \u001b[32m━━━━━━━━━━━━━━━━━━━━\u001b[0m\u001b[37m\u001b[0m \u001b[1m0s\u001b[0m 25ms/step - loss: 0.0088\n",
      "Epoch 6/10\n",
      "\u001b[1m2/2\u001b[0m \u001b[32m━━━━━━━━━━━━━━━━━━━━\u001b[0m\u001b[37m\u001b[0m \u001b[1m0s\u001b[0m 24ms/step - loss: 0.0103\n",
      "Epoch 7/10\n",
      "\u001b[1m2/2\u001b[0m \u001b[32m━━━━━━━━━━━━━━━━━━━━\u001b[0m\u001b[37m\u001b[0m \u001b[1m0s\u001b[0m 33ms/step - loss: 0.0076\n",
      "Epoch 8/10\n",
      "\u001b[1m2/2\u001b[0m \u001b[32m━━━━━━━━━━━━━━━━━━━━\u001b[0m\u001b[37m\u001b[0m \u001b[1m0s\u001b[0m 35ms/step - loss: 0.0084\n",
      "Epoch 9/10\n",
      "\u001b[1m2/2\u001b[0m \u001b[32m━━━━━━━━━━━━━━━━━━━━\u001b[0m\u001b[37m\u001b[0m \u001b[1m0s\u001b[0m 26ms/step - loss: 0.0121\n",
      "Epoch 10/10\n",
      "\u001b[1m2/2\u001b[0m \u001b[32m━━━━━━━━━━━━━━━━━━━━\u001b[0m\u001b[37m\u001b[0m \u001b[1m0s\u001b[0m 30ms/step - loss: 0.0113\n"
     ]
    },
    {
     "data": {
      "text/plain": [
       "<keras.src.callbacks.history.History at 0x18bed5841d0>"
      ]
     },
     "execution_count": 88,
     "metadata": {},
     "output_type": "execute_result"
    }
   ],
   "source": [
    "# Train the model\n",
    "model.fit(X_train, y_train, epochs=10, batch_size=32)"
   ]
  },
  {
   "cell_type": "code",
   "execution_count": 89,
   "id": "7eac4783",
   "metadata": {},
   "outputs": [
    {
     "name": "stdout",
     "output_type": "stream",
     "text": [
      "\u001b[1m1/1\u001b[0m \u001b[32m━━━━━━━━━━━━━━━━━━━━\u001b[0m\u001b[37m\u001b[0m \u001b[1m0s\u001b[0m 48ms/step\n",
      "Day 1: Predicted Close = 915.52, Trend = Bullish\n",
      "Day 2: Predicted Close = 913.24, Trend = Bullish\n",
      "Day 3: Predicted Close = 914.09, Trend = Bullish\n"
     ]
    },
    {
     "data": {
      "image/png": "[encoded data removed]",
      "text/plain": [
       "<Figure size 1400x500 with 1 Axes>"
      ]
     },
     "metadata": {},
     "output_type": "display_data"
    }
   ],
   "source": [
    "# Make predictions\n",
    "predictions = model.predict(X_test)\n",
    "\n",
    "# Create a placeholder array for the full feature set\n",
    "# We need to have the same number of columns as the original data\n",
    "full_scaler_predictions = np.zeros((predictions.shape[0], scaled_data.shape[1]))\n",
    "\n",
    "# Place the predicted 'Close' values into the placeholder array\n",
    "full_scaler_predictions[:, 0] = predictions[:, 0]\n",
    "\n",
    "# Apply inverse transformation to the full array\n",
    "inverse_predictions = scaler.inverse_transform(full_scaler_predictions)\n",
    "\n",
    "# Extract only the 'Close' values from the inverse transformed data\n",
    "final_predictions = inverse_predictions[:, 0]\n",
    "\n",
    "# Extract true 'Close' values from test data\n",
    "true_close = scaler.inverse_transform(test_data)[:, 0][seq_length:]\n",
    "\n",
    "# Combine true close values from the entire dataset\n",
    "all_close_values = scaler.inverse_transform(scaled_data)[:, 0]\n",
    "\n",
    "# Latest known price from the training data\n",
    "latest_known_price = all_close_values[len(train_data) - 1]\n",
    "\n",
    "# Compare predictions with the latest known price\n",
    "for i, predicted_price in enumerate(final_predictions):\n",
    "    trend = \"Bullish\" if predicted_price > latest_known_price else \"Bearish\"\n",
    "    print(f\"Day {i + 1}: Predicted Close = {predicted_price:.2f}, Trend = {trend}\")\n",
    "\n",
    "# Plotting the results\n",
    "plt.figure(figsize=(14, 5))\n",
    "plt.plot(all_close_values, color='blue', label='True Close Price')\n",
    "plt.plot(range(len(train_data) + seq_length, len(train_data) + seq_length + len(final_predictions)), final_predictions, color='red', label='Predicted Close Price')\n",
    "plt.axvline(x=len(train_data) + seq_length, color='green', linestyle='--', label='Prediction Start')\n",
    "plt.title('Stock Price Prediction')\n",
    "plt.xlabel('Days')\n",
    "plt.ylabel('Close Price')\n",
    "plt.legend()\n",
    "plt.show()\n"
   ]
  }
 ],
 "metadata": {
  "kernelspec": {
   "display_name": "Python 3 (ipykernel)",
   "language": "python",
   "name": "python3"
  },
  "language_info": {
   "codemirror_mode": {
    "name": "ipython",
    "version": 3
   },
   "file_extension": ".py",
   "mimetype": "text/x-python",
   "name": "python",
   "nbconvert_exporter": "python",
   "pygments_lexer": "ipython3",
   "version": "3.11.2"
  }
 },
 "nbformat": 4,
 "nbformat_minor": 5
}
